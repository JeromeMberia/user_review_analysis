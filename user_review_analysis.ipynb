{
  "nbformat": 4,
  "nbformat_minor": 0,
  "metadata": {
    "colab": {
      "name": "user_review_analysis.ipynb",
      "provenance": [],
      "collapsed_sections": [],
      "toc_visible": true,
      "include_colab_link": true
    },
    "kernelspec": {
      "name": "python3",
      "display_name": "Python 3"
    }
  },
  "cells": [
    {
      "cell_type": "markdown",
      "metadata": {
        "id": "view-in-github",
        "colab_type": "text"
      },
      "source": [
        "<a href=\"https://colab.research.google.com/github/JeromeMberia/user_review_analysis/blob/main/user_review_analysis.ipynb\" target=\"_parent\"><img src=\"https://colab.research.google.com/assets/colab-badge.svg\" alt=\"Open In Colab\"/></a>"
      ]
    },
    {
      "cell_type": "markdown",
      "metadata": {
        "id": "thas6U6HxqML"
      },
      "source": [
        "\r\n",
        "# PROBLEM STATEMENT "
      ]
    },
    {
      "cell_type": "markdown",
      "metadata": {
        "id": "eZLFKBR3xx5y"
      },
      "source": [
        "## Specifying the question\r\n",
        "\r\n",
        "Predict if each textual review is an exchange letters to a good review meaning the customer is happy alternatively a bad one meaning the customer is not satisfied."
      ]
    },
    {
      "cell_type": "markdown",
      "metadata": {
        "id": "JSG2BXL7x1BG"
      },
      "source": [
        "## Defining the metric of success"
      ]
    },
    {
      "cell_type": "markdown",
      "metadata": {
        "id": "iyQZSqymzSKs"
      },
      "source": [
        "## Understanding the context"
      ]
    },
    {
      "cell_type": "markdown",
      "metadata": {
        "id": "IYOSo0tZzW0x"
      },
      "source": [
        "## Recording the experimental design"
      ]
    },
    {
      "cell_type": "markdown",
      "metadata": {
        "id": "w3XAnWGfzmso"
      },
      "source": [
        "## Data Relevance"
      ]
    },
    {
      "cell_type": "markdown",
      "metadata": {
        "id": "bUbe_HrB_m9z"
      },
      "source": [
        "# Natural Language Processing (NLP)"
      ]
    },
    {
      "cell_type": "code",
      "metadata": {
        "id": "qD-1GowTxxXk"
      },
      "source": [
        ""
      ],
      "execution_count": null,
      "outputs": []
    },
    {
      "cell_type": "markdown",
      "metadata": {
        "id": "L6Yq7newA2yw"
      },
      "source": [
        "### Loading Libraries"
      ]
    },
    {
      "cell_type": "code",
      "metadata": {
        "id": "UxHSSiIlOGrW"
      },
      "source": [
        "#importing the libraries\r\n",
        "import pandas as pd\r\n",
        "import numpy as np\r\n",
        "import string"
      ],
      "execution_count": 1,
      "outputs": []
    },
    {
      "cell_type": "markdown",
      "metadata": {
        "id": "5NlL1rBgBS5s"
      },
      "source": [
        "### Data Loading"
      ]
    },
    {
      "cell_type": "code",
      "metadata": {
        "id": "8G7P8FLnOmLP",
        "colab": {
          "base_uri": "https://localhost:8080/",
          "height": 423
        },
        "outputId": "240bc811-3b23-4dd8-c7a9-25df9c698b17"
      },
      "source": [
        "#uploading and readin the dataset\r\n",
        "data = pd.read_csv(\"/content/user_review_data.csv\")\r\n",
        "data.head()"
      ],
      "execution_count": 2,
      "outputs": [
        {
          "output_type": "error",
          "ename": "FileNotFoundError",
          "evalue": "ignored",
          "traceback": [
            "\u001b[0;31m---------------------------------------------------------------------------\u001b[0m",
            "\u001b[0;31mFileNotFoundError\u001b[0m                         Traceback (most recent call last)",
            "\u001b[0;32m<ipython-input-2-cd2567c43fe2>\u001b[0m in \u001b[0;36m<module>\u001b[0;34m()\u001b[0m\n\u001b[1;32m      1\u001b[0m \u001b[0;31m#uploading and readin the dataset\u001b[0m\u001b[0;34m\u001b[0m\u001b[0;34m\u001b[0m\u001b[0;34m\u001b[0m\u001b[0m\n\u001b[0;32m----> 2\u001b[0;31m \u001b[0mdata\u001b[0m \u001b[0;34m=\u001b[0m \u001b[0mpd\u001b[0m\u001b[0;34m.\u001b[0m\u001b[0mread_csv\u001b[0m\u001b[0;34m(\u001b[0m\u001b[0;34m\"/content/user_review_data.csv\"\u001b[0m\u001b[0;34m)\u001b[0m\u001b[0;34m\u001b[0m\u001b[0;34m\u001b[0m\u001b[0m\n\u001b[0m\u001b[1;32m      3\u001b[0m \u001b[0mdata\u001b[0m\u001b[0;34m.\u001b[0m\u001b[0mhead\u001b[0m\u001b[0;34m(\u001b[0m\u001b[0;34m)\u001b[0m\u001b[0;34m\u001b[0m\u001b[0;34m\u001b[0m\u001b[0m\n",
            "\u001b[0;32m/usr/local/lib/python3.6/dist-packages/pandas/io/parsers.py\u001b[0m in \u001b[0;36mread_csv\u001b[0;34m(filepath_or_buffer, sep, delimiter, header, names, index_col, usecols, squeeze, prefix, mangle_dupe_cols, dtype, engine, converters, true_values, false_values, skipinitialspace, skiprows, skipfooter, nrows, na_values, keep_default_na, na_filter, verbose, skip_blank_lines, parse_dates, infer_datetime_format, keep_date_col, date_parser, dayfirst, cache_dates, iterator, chunksize, compression, thousands, decimal, lineterminator, quotechar, quoting, doublequote, escapechar, comment, encoding, dialect, error_bad_lines, warn_bad_lines, delim_whitespace, low_memory, memory_map, float_precision)\u001b[0m\n\u001b[1;32m    686\u001b[0m     )\n\u001b[1;32m    687\u001b[0m \u001b[0;34m\u001b[0m\u001b[0m\n\u001b[0;32m--> 688\u001b[0;31m     \u001b[0;32mreturn\u001b[0m \u001b[0m_read\u001b[0m\u001b[0;34m(\u001b[0m\u001b[0mfilepath_or_buffer\u001b[0m\u001b[0;34m,\u001b[0m \u001b[0mkwds\u001b[0m\u001b[0;34m)\u001b[0m\u001b[0;34m\u001b[0m\u001b[0;34m\u001b[0m\u001b[0m\n\u001b[0m\u001b[1;32m    689\u001b[0m \u001b[0;34m\u001b[0m\u001b[0m\n\u001b[1;32m    690\u001b[0m \u001b[0;34m\u001b[0m\u001b[0m\n",
            "\u001b[0;32m/usr/local/lib/python3.6/dist-packages/pandas/io/parsers.py\u001b[0m in \u001b[0;36m_read\u001b[0;34m(filepath_or_buffer, kwds)\u001b[0m\n\u001b[1;32m    452\u001b[0m \u001b[0;34m\u001b[0m\u001b[0m\n\u001b[1;32m    453\u001b[0m     \u001b[0;31m# Create the parser.\u001b[0m\u001b[0;34m\u001b[0m\u001b[0;34m\u001b[0m\u001b[0;34m\u001b[0m\u001b[0m\n\u001b[0;32m--> 454\u001b[0;31m     \u001b[0mparser\u001b[0m \u001b[0;34m=\u001b[0m \u001b[0mTextFileReader\u001b[0m\u001b[0;34m(\u001b[0m\u001b[0mfp_or_buf\u001b[0m\u001b[0;34m,\u001b[0m \u001b[0;34m**\u001b[0m\u001b[0mkwds\u001b[0m\u001b[0;34m)\u001b[0m\u001b[0;34m\u001b[0m\u001b[0;34m\u001b[0m\u001b[0m\n\u001b[0m\u001b[1;32m    455\u001b[0m \u001b[0;34m\u001b[0m\u001b[0m\n\u001b[1;32m    456\u001b[0m     \u001b[0;32mif\u001b[0m \u001b[0mchunksize\u001b[0m \u001b[0;32mor\u001b[0m \u001b[0miterator\u001b[0m\u001b[0;34m:\u001b[0m\u001b[0;34m\u001b[0m\u001b[0;34m\u001b[0m\u001b[0m\n",
            "\u001b[0;32m/usr/local/lib/python3.6/dist-packages/pandas/io/parsers.py\u001b[0m in \u001b[0;36m__init__\u001b[0;34m(self, f, engine, **kwds)\u001b[0m\n\u001b[1;32m    946\u001b[0m             \u001b[0mself\u001b[0m\u001b[0;34m.\u001b[0m\u001b[0moptions\u001b[0m\u001b[0;34m[\u001b[0m\u001b[0;34m\"has_index_names\"\u001b[0m\u001b[0;34m]\u001b[0m \u001b[0;34m=\u001b[0m \u001b[0mkwds\u001b[0m\u001b[0;34m[\u001b[0m\u001b[0;34m\"has_index_names\"\u001b[0m\u001b[0;34m]\u001b[0m\u001b[0;34m\u001b[0m\u001b[0;34m\u001b[0m\u001b[0m\n\u001b[1;32m    947\u001b[0m \u001b[0;34m\u001b[0m\u001b[0m\n\u001b[0;32m--> 948\u001b[0;31m         \u001b[0mself\u001b[0m\u001b[0;34m.\u001b[0m\u001b[0m_make_engine\u001b[0m\u001b[0;34m(\u001b[0m\u001b[0mself\u001b[0m\u001b[0;34m.\u001b[0m\u001b[0mengine\u001b[0m\u001b[0;34m)\u001b[0m\u001b[0;34m\u001b[0m\u001b[0;34m\u001b[0m\u001b[0m\n\u001b[0m\u001b[1;32m    949\u001b[0m \u001b[0;34m\u001b[0m\u001b[0m\n\u001b[1;32m    950\u001b[0m     \u001b[0;32mdef\u001b[0m \u001b[0mclose\u001b[0m\u001b[0;34m(\u001b[0m\u001b[0mself\u001b[0m\u001b[0;34m)\u001b[0m\u001b[0;34m:\u001b[0m\u001b[0;34m\u001b[0m\u001b[0;34m\u001b[0m\u001b[0m\n",
            "\u001b[0;32m/usr/local/lib/python3.6/dist-packages/pandas/io/parsers.py\u001b[0m in \u001b[0;36m_make_engine\u001b[0;34m(self, engine)\u001b[0m\n\u001b[1;32m   1178\u001b[0m     \u001b[0;32mdef\u001b[0m \u001b[0m_make_engine\u001b[0m\u001b[0;34m(\u001b[0m\u001b[0mself\u001b[0m\u001b[0;34m,\u001b[0m \u001b[0mengine\u001b[0m\u001b[0;34m=\u001b[0m\u001b[0;34m\"c\"\u001b[0m\u001b[0;34m)\u001b[0m\u001b[0;34m:\u001b[0m\u001b[0;34m\u001b[0m\u001b[0;34m\u001b[0m\u001b[0m\n\u001b[1;32m   1179\u001b[0m         \u001b[0;32mif\u001b[0m \u001b[0mengine\u001b[0m \u001b[0;34m==\u001b[0m \u001b[0;34m\"c\"\u001b[0m\u001b[0;34m:\u001b[0m\u001b[0;34m\u001b[0m\u001b[0;34m\u001b[0m\u001b[0m\n\u001b[0;32m-> 1180\u001b[0;31m             \u001b[0mself\u001b[0m\u001b[0;34m.\u001b[0m\u001b[0m_engine\u001b[0m \u001b[0;34m=\u001b[0m \u001b[0mCParserWrapper\u001b[0m\u001b[0;34m(\u001b[0m\u001b[0mself\u001b[0m\u001b[0;34m.\u001b[0m\u001b[0mf\u001b[0m\u001b[0;34m,\u001b[0m \u001b[0;34m**\u001b[0m\u001b[0mself\u001b[0m\u001b[0;34m.\u001b[0m\u001b[0moptions\u001b[0m\u001b[0;34m)\u001b[0m\u001b[0;34m\u001b[0m\u001b[0;34m\u001b[0m\u001b[0m\n\u001b[0m\u001b[1;32m   1181\u001b[0m         \u001b[0;32melse\u001b[0m\u001b[0;34m:\u001b[0m\u001b[0;34m\u001b[0m\u001b[0;34m\u001b[0m\u001b[0m\n\u001b[1;32m   1182\u001b[0m             \u001b[0;32mif\u001b[0m \u001b[0mengine\u001b[0m \u001b[0;34m==\u001b[0m \u001b[0;34m\"python\"\u001b[0m\u001b[0;34m:\u001b[0m\u001b[0;34m\u001b[0m\u001b[0;34m\u001b[0m\u001b[0m\n",
            "\u001b[0;32m/usr/local/lib/python3.6/dist-packages/pandas/io/parsers.py\u001b[0m in \u001b[0;36m__init__\u001b[0;34m(self, src, **kwds)\u001b[0m\n\u001b[1;32m   2008\u001b[0m         \u001b[0mkwds\u001b[0m\u001b[0;34m[\u001b[0m\u001b[0;34m\"usecols\"\u001b[0m\u001b[0;34m]\u001b[0m \u001b[0;34m=\u001b[0m \u001b[0mself\u001b[0m\u001b[0;34m.\u001b[0m\u001b[0musecols\u001b[0m\u001b[0;34m\u001b[0m\u001b[0;34m\u001b[0m\u001b[0m\n\u001b[1;32m   2009\u001b[0m \u001b[0;34m\u001b[0m\u001b[0m\n\u001b[0;32m-> 2010\u001b[0;31m         \u001b[0mself\u001b[0m\u001b[0;34m.\u001b[0m\u001b[0m_reader\u001b[0m \u001b[0;34m=\u001b[0m \u001b[0mparsers\u001b[0m\u001b[0;34m.\u001b[0m\u001b[0mTextReader\u001b[0m\u001b[0;34m(\u001b[0m\u001b[0msrc\u001b[0m\u001b[0;34m,\u001b[0m \u001b[0;34m**\u001b[0m\u001b[0mkwds\u001b[0m\u001b[0;34m)\u001b[0m\u001b[0;34m\u001b[0m\u001b[0;34m\u001b[0m\u001b[0m\n\u001b[0m\u001b[1;32m   2011\u001b[0m         \u001b[0mself\u001b[0m\u001b[0;34m.\u001b[0m\u001b[0munnamed_cols\u001b[0m \u001b[0;34m=\u001b[0m \u001b[0mself\u001b[0m\u001b[0;34m.\u001b[0m\u001b[0m_reader\u001b[0m\u001b[0;34m.\u001b[0m\u001b[0munnamed_cols\u001b[0m\u001b[0;34m\u001b[0m\u001b[0;34m\u001b[0m\u001b[0m\n\u001b[1;32m   2012\u001b[0m \u001b[0;34m\u001b[0m\u001b[0m\n",
            "\u001b[0;32mpandas/_libs/parsers.pyx\u001b[0m in \u001b[0;36mpandas._libs.parsers.TextReader.__cinit__\u001b[0;34m()\u001b[0m\n",
            "\u001b[0;32mpandas/_libs/parsers.pyx\u001b[0m in \u001b[0;36mpandas._libs.parsers.TextReader._setup_parser_source\u001b[0;34m()\u001b[0m\n",
            "\u001b[0;31mFileNotFoundError\u001b[0m: [Errno 2] No such file or directory: '/content/user_review_data.csv'"
          ]
        }
      ]
    },
    {
      "cell_type": "markdown",
      "metadata": {
        "id": "yux-xZIk4NM2"
      },
      "source": [
        "### Natural Language Processing"
      ]
    },
    {
      "cell_type": "code",
      "metadata": {
        "id": "zGP3zny34c4s"
      },
      "source": [
        "#checking the top 5 rows\r\n",
        "data.head()"
      ],
      "execution_count": null,
      "outputs": []
    },
    {
      "cell_type": "code",
      "metadata": {
        "id": "S7pexGIg4cqc"
      },
      "source": [
        "#checking the bottom 5 rows\r\n",
        "data.tail()"
      ],
      "execution_count": null,
      "outputs": []
    },
    {
      "cell_type": "code",
      "metadata": {
        "id": "wsBVv-TA3e61"
      },
      "source": [
        "#Getting the dataset shape.\r\n",
        "data.shape"
      ],
      "execution_count": null,
      "outputs": []
    },
    {
      "cell_type": "code",
      "metadata": {
        "id": "xnyezhGd31bG"
      },
      "source": [
        "##Get the summary of this dataframe\r\n",
        "data.info()"
      ],
      "execution_count": null,
      "outputs": []
    },
    {
      "cell_type": "markdown",
      "metadata": {
        "id": "eP34yXDzsBFx"
      },
      "source": [
        "observation: our dataset comprise of object and integer datatype. both colunms has 15000 values, this is a clue of no missing values. "
      ]
    },
    {
      "cell_type": "code",
      "metadata": {
        "id": "jf3k3yQNJldO"
      },
      "source": [
        "#checking the body_review variable values\r\n",
        "data['review_body'].sample(n=10, random_state=610)"
      ],
      "execution_count": null,
      "outputs": []
    },
    {
      "cell_type": "markdown",
      "metadata": {
        "id": "--lAN9sMsm8Q"
      },
      "source": [
        "observation: the values comprises of words, symbols, panctuations and so on."
      ]
    },
    {
      "cell_type": "code",
      "metadata": {
        "id": "eqqpPNlt_knE"
      },
      "source": [
        "#Using groupby will check the data\r\n",
        "data.groupby('star_rating').describe()"
      ],
      "execution_count": null,
      "outputs": []
    },
    {
      "cell_type": "code",
      "metadata": {
        "id": "mqeSXDUb_8gR"
      },
      "source": [
        ""
      ],
      "execution_count": null,
      "outputs": []
    },
    {
      "cell_type": "code",
      "metadata": {
        "id": "noDI8RS135dN"
      },
      "source": [
        "#previewing the dataset variables\r\n",
        "data.columns"
      ],
      "execution_count": null,
      "outputs": []
    },
    {
      "cell_type": "markdown",
      "metadata": {
        "id": "fnVFLFPKs8UC"
      },
      "source": [
        "observation: the two colunms are, review_body, and star_rating."
      ]
    },
    {
      "cell_type": "markdown",
      "metadata": {
        "id": "FIhiZDUjq5yH"
      },
      "source": [
        "## Pre processing the data\r\n",
        "\r\n",
        "Here we will check for missing values, duplicates, outliers and remove any unnecessary variables/features/columns if any. other preprocessing procedures are tokenizing(spliting),stemming and lemmatization."
      ]
    },
    {
      "cell_type": "code",
      "metadata": {
        "id": "Y5iTYTOg423T"
      },
      "source": [
        "#checking for the missing values\r\n",
        "data_corpus = data.copy()\r\n",
        "data_corpus.head(10)"
      ],
      "execution_count": null,
      "outputs": []
    },
    {
      "cell_type": "markdown",
      "metadata": {
        "id": "1Qu26FrruiOu"
      },
      "source": [
        "observation: there is no missing values"
      ]
    },
    {
      "cell_type": "code",
      "metadata": {
        "id": "7jVwvEu0umog"
      },
      "source": [
        "#Checking for duplicates\r\n",
        "data_corpus.duplicated().sum()"
      ],
      "execution_count": null,
      "outputs": []
    },
    {
      "cell_type": "markdown",
      "metadata": {
        "id": "h7o2UoAQ19aE"
      },
      "source": [
        "observation: there are 439 duplicates."
      ]
    },
    {
      "cell_type": "code",
      "metadata": {
        "id": "xG3b0PCR1dbo"
      },
      "source": [
        "#dropping the duplicates\r\n",
        "data_corpus.drop_duplicates(inplace=True)\r\n",
        "#\r\n",
        "#confirming no duplicates\r\n",
        "data_corpus.duplicated().any()"
      ],
      "execution_count": null,
      "outputs": []
    },
    {
      "cell_type": "markdown",
      "metadata": {
        "id": "Mnce2U7Q2D2k"
      },
      "source": [
        "observation: duplicates have been dropped."
      ]
    },
    {
      "cell_type": "code",
      "metadata": {
        "id": "FjVL6OyxV716"
      },
      "source": [
        ""
      ],
      "execution_count": null,
      "outputs": []
    },
    {
      "cell_type": "markdown",
      "metadata": {
        "id": "08nTPHD4VBtM"
      },
      "source": [
        "## finding rare words and splitting them"
      ]
    },
    {
      "cell_type": "code",
      "metadata": {
        "colab": {
          "base_uri": "https://localhost:8080/"
        },
        "id": "BBAC_BDHGI4R",
        "outputId": "597aaf50-e162-42b9-a434-05cfc6e67bfd"
      },
      "source": [
        "# Finding Rare Words i.e. 100 of them\r\n",
        "# --\r\n",
        "data_corpus2= data_corpus.copy()\r\n",
        "#\r\n",
        "rare_words= pd.Series(' '.join(data_corpus2.review_body).split()).value_counts()[-100:]\r\n",
        "rare_words"
      ],
      "execution_count": null,
      "outputs": [
        {
          "output_type": "execute_result",
          "data": {
            "text/plain": [
              "armagua         1\n",
              "haalso          1\n",
              "beautifulthe    1\n",
              "elligible       1\n",
              "linkstyle       1\n",
              "               ..\n",
              "weekits         1\n",
              "bacteria        1\n",
              "shotprice       1\n",
              "sß              1\n",
              "enoughif        1\n",
              "Length: 100, dtype: int64"
            ]
          },
          "metadata": {
            "tags": []
          },
          "execution_count": 89
        }
      ]
    },
    {
      "cell_type": "code",
      "metadata": {
        "id": "hCSl_AdDUH65"
      },
      "source": [
        ""
      ],
      "execution_count": null,
      "outputs": []
    },
    {
      "cell_type": "code",
      "metadata": {
        "colab": {
          "base_uri": "https://localhost:8080/"
        },
        "id": "M873CtLDJQv2",
        "outputId": "bddcfd3f-f112-416e-d71f-801caa4674ef"
      },
      "source": [
        "# Splitting concatenated words\r\n",
        "# ---\r\n",
        "# We can split concatenated words into separate words i.e. 'thathad' to 'that', 'had' \r\n",
        "# but we first need to install wordninja & textblob libraries which will allows us to do this operation.\r\n",
        "# --- \r\n",
        "# \r\n",
        "!pip3 install wordninja\r\n",
        "!pip3 install textblob"
      ],
      "execution_count": null,
      "outputs": [
        {
          "output_type": "stream",
          "text": [
            "Requirement already satisfied: wordninja in /usr/local/lib/python3.6/dist-packages (2.0.0)\n",
            "Requirement already satisfied: textblob in /usr/local/lib/python3.6/dist-packages (0.15.3)\n",
            "Requirement already satisfied: nltk>=3.1 in /usr/local/lib/python3.6/dist-packages (from textblob) (3.2.5)\n",
            "Requirement already satisfied: six in /usr/local/lib/python3.6/dist-packages (from nltk>=3.1->textblob) (1.15.0)\n"
          ],
          "name": "stdout"
        }
      ]
    },
    {
      "cell_type": "code",
      "metadata": {
        "colab": {
          "base_uri": "https://localhost:8080/"
        },
        "id": "oQn7uJ57JdRr",
        "outputId": "8461f468-f442-4c0d-a4eb-7cda9aff4ecd"
      },
      "source": [
        "# Importing the required libraries\r\n",
        "# ---\r\n",
        "#  \r\n",
        "import wordninja \r\n",
        "from textblob import TextBlob\r\n",
        "\r\n",
        "# Performing our splitting \r\n",
        "# \r\n",
        "data_corpus2['review_body'] = data_corpus2.review_body.apply(lambda x: wordninja.split(str(TextBlob(x))))  \r\n",
        "#\r\n",
        "print(data_corpus2['review_body'].head(1))\r\n",
        "#\r\n",
        "data_corpus2['review_body'] = data_corpus2.review_body.str.join('')\r\n",
        "print(data_corpus2[['review_body']].head())"
      ],
      "execution_count": null,
      "outputs": [
        {
          "output_type": "stream",
          "text": [
            "0    [good, luck, finding, a, reasonably, priced, b...\n",
            "Name: review_body, dtype: object\n",
            "                                         review_body\n",
            "0  goodluckfindingareasonablypricedbandreplacemen...\n",
            "1  noigetdarkonthefirstweekwithmeiwillneverbuythi...\n",
            "2  idontknowifminewasamistakebutitclearlystatesaq...\n",
            "3  therodthatholdsthebraceletbrokeseveraltimesand...\n",
            "4  iboughtwatchesonewatchdoesnotworkatallotherwat...\n"
          ],
          "name": "stdout"
        }
      ]
    },
    {
      "cell_type": "code",
      "metadata": {
        "colab": {
          "base_uri": "https://localhost:8080/"
        },
        "id": "xKkh-UzoRX2j",
        "outputId": "85c41430-81e9-434e-a554-1534b41862a8"
      },
      "source": [
        "a=\"beautifulthe\"\r\n",
        "wordninja.split(str(TextBlob(a)))"
      ],
      "execution_count": null,
      "outputs": [
        {
          "output_type": "execute_result",
          "data": {
            "text/plain": [
              "['beautiful', 'the']"
            ]
          },
          "metadata": {
            "tags": []
          },
          "execution_count": 117
        }
      ]
    },
    {
      "cell_type": "markdown",
      "metadata": {
        "id": "lb_ljFhsBmSa"
      },
      "source": [
        "Words"
      ]
    },
    {
      "cell_type": "code",
      "metadata": {
        "colab": {
          "base_uri": "https://localhost:8080/"
        },
        "id": "qv4dDsEjC08S",
        "outputId": "2cad918f-66e1-403c-e7d5-82805f09e8e2"
      },
      "source": [
        "# previewing datset\r\n",
        "data_corpus.sample(10)"
      ],
      "execution_count": null,
      "outputs": [
        {
          "output_type": "execute_result",
          "data": {
            "text/plain": [
              "1129                                   broke already weeks\n",
              "10126    pretty simple straightforward not mention chea...\n",
              "9600     great easy read very comfortable durable recei...\n",
              "5557     was cheaply made chain that came in plastic ba...\n",
              "12936    sure makes taking watches apart lot easier tha...\n",
              "8172     after few months of use time starts going off ...\n",
              "6371     dont know what kind of rubber or maybe its col...\n",
              "1890     read reviews thought would good cheap buy but ...\n",
              "7003     seems be of good quality but compass poorly ma...\n",
              "10928    cant say love band but looks good does job occ...\n",
              "Name: review_body, dtype: object"
            ]
          },
          "metadata": {
            "tags": []
          },
          "execution_count": 116
        }
      ]
    },
    {
      "cell_type": "code",
      "metadata": {
        "colab": {
          "base_uri": "https://localhost:8080/",
          "height": 197
        },
        "id": "A-BhKibTIOzu",
        "outputId": "f3b304e3-24ae-4de0-bad0-b81b8b2f1bc9"
      },
      "source": [
        "#Counting Frequency of Words / No. of words in a Corpus/Text/Vocabulary of Words\r\n",
        "# ---\r\n",
        "# \r\n",
        "data_corpus2['word_count'] = data_corpus2.review_body.apply(lambda x: len(str(x).split(\" \")))\r\n",
        "data_corpus2[['review_body', 'word_count']].sample(5)"
      ],
      "execution_count": null,
      "outputs": [
        {
          "output_type": "execute_result",
          "data": {
            "text/html": [
              "<div>\n",
              "<style scoped>\n",
              "    .dataframe tbody tr th:only-of-type {\n",
              "        vertical-align: middle;\n",
              "    }\n",
              "\n",
              "    .dataframe tbody tr th {\n",
              "        vertical-align: top;\n",
              "    }\n",
              "\n",
              "    .dataframe thead th {\n",
              "        text-align: right;\n",
              "    }\n",
              "</style>\n",
              "<table border=\"1\" class=\"dataframe\">\n",
              "  <thead>\n",
              "    <tr style=\"text-align: right;\">\n",
              "      <th></th>\n",
              "      <th>review_body</th>\n",
              "      <th>word_count</th>\n",
              "    </tr>\n",
              "  </thead>\n",
              "  <tbody>\n",
              "    <tr>\n",
              "      <th>7830</th>\n",
              "      <td>i got this watch and it was nice till about th...</td>\n",
              "      <td>29</td>\n",
              "    </tr>\n",
              "    <tr>\n",
              "      <th>13645</th>\n",
              "      <td>wonderful watch although i wound up breaking t...</td>\n",
              "      <td>106</td>\n",
              "    </tr>\n",
              "    <tr>\n",
              "      <th>14429</th>\n",
              "      <td>bought this for my elderly mom it is very easy...</td>\n",
              "      <td>23</td>\n",
              "    </tr>\n",
              "    <tr>\n",
              "      <th>10417</th>\n",
              "      <td>my daughter loved it the learning to tell time...</td>\n",
              "      <td>21</td>\n",
              "    </tr>\n",
              "    <tr>\n",
              "      <th>13898</th>\n",
              "      <td>great value and keeps time better than my jewe...</td>\n",
              "      <td>52</td>\n",
              "    </tr>\n",
              "  </tbody>\n",
              "</table>\n",
              "</div>"
            ],
            "text/plain": [
              "                                             review_body  word_count\n",
              "7830   i got this watch and it was nice till about th...          29\n",
              "13645  wonderful watch although i wound up breaking t...         106\n",
              "14429  bought this for my elderly mom it is very easy...          23\n",
              "10417  my daughter loved it the learning to tell time...          21\n",
              "13898  great value and keeps time better than my jewe...          52"
            ]
          },
          "metadata": {
            "tags": []
          },
          "execution_count": 95
        }
      ]
    },
    {
      "cell_type": "code",
      "metadata": {
        "colab": {
          "base_uri": "https://localhost:8080/",
          "height": 197
        },
        "id": "Ndn7uHygIf8z",
        "outputId": "116ada96-88e6-4bfb-b283-5cde1d1315b8"
      },
      "source": [
        "# Length of Text (includes spaces)\r\n",
        "# ---\r\n",
        "# \r\n",
        "data_corpus2['length_of_text'] = data_corpus2.review_body.str.len()\r\n",
        "data_corpus2[['review_body','length_of_text']].sample(5)"
      ],
      "execution_count": null,
      "outputs": [
        {
          "output_type": "execute_result",
          "data": {
            "text/html": [
              "<div>\n",
              "<style scoped>\n",
              "    .dataframe tbody tr th:only-of-type {\n",
              "        vertical-align: middle;\n",
              "    }\n",
              "\n",
              "    .dataframe tbody tr th {\n",
              "        vertical-align: top;\n",
              "    }\n",
              "\n",
              "    .dataframe thead th {\n",
              "        text-align: right;\n",
              "    }\n",
              "</style>\n",
              "<table border=\"1\" class=\"dataframe\">\n",
              "  <thead>\n",
              "    <tr style=\"text-align: right;\">\n",
              "      <th></th>\n",
              "      <th>review_body</th>\n",
              "      <th>length_of_text</th>\n",
              "    </tr>\n",
              "  </thead>\n",
              "  <tbody>\n",
              "    <tr>\n",
              "      <th>6067</th>\n",
              "      <td>just what i expected for a summer watch meets ...</td>\n",
              "      <td>131</td>\n",
              "    </tr>\n",
              "    <tr>\n",
              "      <th>490</th>\n",
              "      <td>this is not a very rugged watch we bought this...</td>\n",
              "      <td>131</td>\n",
              "    </tr>\n",
              "    <tr>\n",
              "      <th>4149</th>\n",
              "      <td>when i received this watch i immediately teste...</td>\n",
              "      <td>345</td>\n",
              "    </tr>\n",
              "    <tr>\n",
              "      <th>12794</th>\n",
              "      <td>i personally have one citizen titanium eco dri...</td>\n",
              "      <td>358</td>\n",
              "    </tr>\n",
              "    <tr>\n",
              "      <th>1254</th>\n",
              "      <td>just bought this the quality is ok but feels l...</td>\n",
              "      <td>93</td>\n",
              "    </tr>\n",
              "  </tbody>\n",
              "</table>\n",
              "</div>"
            ],
            "text/plain": [
              "                                             review_body  length_of_text\n",
              "6067   just what i expected for a summer watch meets ...             131\n",
              "490    this is not a very rugged watch we bought this...             131\n",
              "4149   when i received this watch i immediately teste...             345\n",
              "12794  i personally have one citizen titanium eco dri...             358\n",
              "1254   just bought this the quality is ok but feels l...              93"
            ]
          },
          "metadata": {
            "tags": []
          },
          "execution_count": 100
        }
      ]
    },
    {
      "cell_type": "code",
      "metadata": {
        "colab": {
          "base_uri": "https://localhost:8080/",
          "height": 197
        },
        "id": "5AmjuXBfJQhw",
        "outputId": "c6b0ffb6-8886-4213-9cb2-f7883a7d561a"
      },
      "source": [
        "data_corpus2.head()"
      ],
      "execution_count": null,
      "outputs": [
        {
          "output_type": "execute_result",
          "data": {
            "text/html": [
              "<div>\n",
              "<style scoped>\n",
              "    .dataframe tbody tr th:only-of-type {\n",
              "        vertical-align: middle;\n",
              "    }\n",
              "\n",
              "    .dataframe tbody tr th {\n",
              "        vertical-align: top;\n",
              "    }\n",
              "\n",
              "    .dataframe thead th {\n",
              "        text-align: right;\n",
              "    }\n",
              "</style>\n",
              "<table border=\"1\" class=\"dataframe\">\n",
              "  <thead>\n",
              "    <tr style=\"text-align: right;\">\n",
              "      <th></th>\n",
              "      <th>review_body</th>\n",
              "      <th>star_rating</th>\n",
              "      <th>word_count</th>\n",
              "      <th>length_of_text</th>\n",
              "    </tr>\n",
              "  </thead>\n",
              "  <tbody>\n",
              "    <tr>\n",
              "      <th>0</th>\n",
              "      <td>good luck finding a reasonably priced band rep...</td>\n",
              "      <td>1</td>\n",
              "      <td>62</td>\n",
              "      <td>316</td>\n",
              "    </tr>\n",
              "    <tr>\n",
              "      <th>1</th>\n",
              "      <td>no i get dark on the first week with me i will...</td>\n",
              "      <td>1</td>\n",
              "      <td>22</td>\n",
              "      <td>88</td>\n",
              "    </tr>\n",
              "    <tr>\n",
              "      <th>2</th>\n",
              "      <td>i dont know if mine was a mistake but it clear...</td>\n",
              "      <td>1</td>\n",
              "      <td>78</td>\n",
              "      <td>385</td>\n",
              "    </tr>\n",
              "    <tr>\n",
              "      <th>3</th>\n",
              "      <td>the rod that holds the bracelet broke several ...</td>\n",
              "      <td>1</td>\n",
              "      <td>47</td>\n",
              "      <td>216</td>\n",
              "    </tr>\n",
              "    <tr>\n",
              "      <th>4</th>\n",
              "      <td>i bought watches one watch does not work at al...</td>\n",
              "      <td>1</td>\n",
              "      <td>54</td>\n",
              "      <td>281</td>\n",
              "    </tr>\n",
              "  </tbody>\n",
              "</table>\n",
              "</div>"
            ],
            "text/plain": [
              "                                         review_body  ...  length_of_text\n",
              "0  good luck finding a reasonably priced band rep...  ...             316\n",
              "1  no i get dark on the first week with me i will...  ...              88\n",
              "2  i dont know if mine was a mistake but it clear...  ...             385\n",
              "3  the rod that holds the bracelet broke several ...  ...             216\n",
              "4  i bought watches one watch does not work at al...  ...             281\n",
              "\n",
              "[5 rows x 4 columns]"
            ]
          },
          "metadata": {
            "tags": []
          },
          "execution_count": 102
        }
      ]
    },
    {
      "cell_type": "code",
      "metadata": {
        "id": "1ZRCMhquWC1t"
      },
      "source": [
        ""
      ],
      "execution_count": null,
      "outputs": []
    },
    {
      "cell_type": "markdown",
      "metadata": {
        "id": "zxvKnZKvKpiL"
      },
      "source": [
        "## Performing EDA(Exploratory Data Analysis)\r\n",
        "\r\n",
        "Exploratory Data Analysis is an approach of perfoming initial investigations on data in order to discover hidden patterns,test hypothesis and identify outliers. It enables us to see what the data can tell us beyond formal modeling"
      ]
    },
    {
      "cell_type": "code",
      "metadata": {
        "colab": {
          "base_uri": "https://localhost:8080/",
          "height": 282
        },
        "id": "DOoSXsdcKwEO",
        "outputId": "6c56c7c5-61fc-4625-d1bb-e61c0c78fd4d"
      },
      "source": [
        "# text lenghth analysis\r\n",
        "#\r\n",
        "#distribution of text\r\n",
        "data_corpus2['review_body'].str.len().hist()"
      ],
      "execution_count": null,
      "outputs": [
        {
          "output_type": "execute_result",
          "data": {
            "text/plain": [
              "<matplotlib.axes._subplots.AxesSubplot at 0x7f04276888d0>"
            ]
          },
          "metadata": {
            "tags": []
          },
          "execution_count": 106
        },
        {
          "output_type": "display_data",
          "data": {
            "image/png": "[encoded data removed]",
            "text/plain": [
              "<Figure size 432x288 with 1 Axes>"
            ]
          },
          "metadata": {
            "tags": [],
            "needs_background": "light"
          }
        }
      ]
    },
    {
      "cell_type": "code",
      "metadata": {
        "colab": {
          "base_uri": "https://localhost:8080/",
          "height": 406
        },
        "id": "hROH7mgTLque",
        "outputId": "09f6a158-c8a6-485f-af3a-a4aaced3473f"
      },
      "source": [
        "import matplotlib.pyplot as plt\r\n",
        "import seaborn as sns\r\n",
        "plt.figure(figsize=(12,6))     #width and height\r\n",
        "sns.countplot(x='star_rating',data=data_corpus2)"
      ],
      "execution_count": null,
      "outputs": [
        {
          "output_type": "execute_result",
          "data": {
            "text/plain": [
              "<matplotlib.axes._subplots.AxesSubplot at 0x7f0427734cc0>"
            ]
          },
          "metadata": {
            "tags": []
          },
          "execution_count": 110
        },
        {
          "output_type": "display_data",
          "data": {
            "image/png": "[encoded data removed]",
            "text/plain": [
              "<Figure size 864x432 with 1 Axes>"
            ]
          },
          "metadata": {
            "tags": [],
            "needs_background": "light"
          }
        }
      ]
    },
    {
      "cell_type": "markdown",
      "metadata": {
        "id": "PFfnBV4mHF-R"
      },
      "source": [
        "Tokenization"
      ]
    },
    {
      "cell_type": "code",
      "metadata": {
        "id": "Qaqlf7VCWDfm"
      },
      "source": [
        "\r\n",
        "# First, we will download the punkt sentence tokenizer into our notebook environment. \r\n",
        "# This tokenizer will divide text into a list of sentences / words. \r\n",
        "# ---\r\n",
        "#\r\n",
        "nltk.download('punkt')"
      ],
      "execution_count": null,
      "outputs": []
    },
    {
      "cell_type": "code",
      "metadata": {
        "id": "H8_q_b1NWDfn"
      },
      "source": [
        "#Tokenization is the process dividing text documents into smaller parts called tokens. \r\n",
        "# Tokens can be either words, characters, or subwords. These tokens are very useful \r\n",
        "# for finding such patterns as well as is considered as a base step for stemming and lemmatization. \r\n",
        "# ---\r\n",
        "# - The output of word tokenization can be converted to dataframe for better \r\n",
        "#   text understanding in machine learning applications. \r\n",
        "# - It can also be provided as input for further text cleaning steps such as punctuation removal,\r\n",
        "#   \r\n",
        "# ---\r\n",
        "# \r\n",
        "\r\n",
        "# We can transform our third tweet as shown below\r\n",
        "# ---\r\n",
        "# \r\n",
        "words = TextBlob(data_corpus.review_body).words\r\n",
        "print(words) "
      ],
      "execution_count": null,
      "outputs": []
    },
    {
      "cell_type": "code",
      "metadata": {
        "id": "QKkSOJby7uIH"
      },
      "source": [
        "import re\r\n",
        "import string\r\n",
        "\r\n",
        "def clean_text_round1(text):\r\n",
        "  '''Remove HTML tags, remove punctuation, make text lowercase, remove punctuation and remove words containing numbers.'''\r\n",
        "  text = re.sub('<.*?>','', text)\r\n",
        "  text = re.sub('[%s]' % re.escape(string.punctuation), '', text)\r\n",
        "  text = text.lower()\r\n",
        "  text = re.sub('\\d', '', text)\r\n",
        "  return text\r\n",
        "\r\n",
        "fix = lambda x: clean_text_round1(x)\r\n",
        "data_corpus['review_body'] = pd.DataFrame(data_corpus.review_body.apply(fix))\r\n",
        "data_corpus"
      ],
      "execution_count": null,
      "outputs": []
    },
    {
      "cell_type": "code",
      "metadata": {
        "id": "89tO2frzgHw6"
      },
      "source": [
        "data_corpus2 = data_corpus.copy()"
      ],
      "execution_count": null,
      "outputs": []
    },
    {
      "cell_type": "code",
      "metadata": {
        "id": "VyXtTDWrWUrq"
      },
      "source": [
        "from nltk.corpus import stopwords"
      ],
      "execution_count": null,
      "outputs": []
    },
    {
      "cell_type": "code",
      "metadata": {
        "id": "BV3h3AP_Wlga"
      },
      "source": [
        "pip install nltk\r\n"
      ],
      "execution_count": null,
      "outputs": []
    },
    {
      "cell_type": "code",
      "metadata": {
        "id": "k_A6J3Dzcvp6"
      },
      "source": [
        "pip install wordnet"
      ],
      "execution_count": null,
      "outputs": []
    },
    {
      "cell_type": "code",
      "metadata": {
        "id": "aU7uRiRudCFh"
      },
      "source": [
        "nltk.download()"
      ],
      "execution_count": null,
      "outputs": []
    },
    {
      "cell_type": "code",
      "metadata": {
        "id": "YCaHz_5LWoYW"
      },
      "source": [
        "import nltk\r\n",
        "nltk.download('stopwords')\r\n",
        "nltk.download('punkt')"
      ],
      "execution_count": null,
      "outputs": []
    },
    {
      "cell_type": "code",
      "metadata": {
        "id": "IV0ojEKnXOTW"
      },
      "source": [
        "data_corpus['review_body'] = data_corpus['review_body'].apply(nltk.word_tokenize)"
      ],
      "execution_count": null,
      "outputs": []
    },
    {
      "cell_type": "code",
      "metadata": {
        "id": "6be6odNCYz3_"
      },
      "source": [
        "data_corpus['review_body']"
      ],
      "execution_count": null,
      "outputs": []
    },
    {
      "cell_type": "code",
      "metadata": {
        "id": "QU7XNlqoXCAD"
      },
      "source": [
        "from nltk.stem import PorterStemmer\r\n",
        "\r\n",
        "stemmer = PorterStemmer()\r\n",
        " \r\n",
        "data_corpus['review_body'] = data_corpus['review_body'].apply(lambda x: [stemmer.stem(y) for y in x])"
      ],
      "execution_count": null,
      "outputs": []
    },
    {
      "cell_type": "code",
      "metadata": {
        "id": "_5T7YdBPdrIc"
      },
      "source": [
        "data_corpus['review_body']\r\n"
      ],
      "execution_count": null,
      "outputs": []
    },
    {
      "cell_type": "code",
      "metadata": {
        "id": "hOiOPkb2mELL"
      },
      "source": [
        "from sklearn.feature_extraction.text import CountVectorizer"
      ],
      "execution_count": null,
      "outputs": []
    },
    {
      "cell_type": "code",
      "metadata": {
        "id": "9J06wmA6ev4E"
      },
      "source": [
        "from sklearn.feature_extraction.text import CountVectorizer\r\n",
        "\r\n",
        "data_corpus['review_body'] = data_corpus['review_body'].apply(lambda x: ' '.join(x))\r\n",
        "\r\n",
        "cv = CountVectorizer(stop_words='english')\r\n",
        "text_1 = cv.fit_transform(data_corpus['review_body'])"
      ],
      "execution_count": null,
      "outputs": []
    },
    {
      "cell_type": "code",
      "metadata": {
        "id": "u1qR2xkMe3Ct"
      },
      "source": [
        "data_DTM = pd.DataFrame(text_1.toarray(), columns=cv.get_feature_names(), index=data_corpus.index)\r\n",
        "data_DTM['star_rating'] = data_corpus2['star_rating']\r\n",
        "data_DTM.head()\r\n"
      ],
      "execution_count": null,
      "outputs": []
    },
    {
      "cell_type": "code",
      "metadata": {
        "id": "b3Yick5BpS3k"
      },
      "source": [
        "data_DTM.star_rating.unique()"
      ],
      "execution_count": null,
      "outputs": []
    },
    {
      "cell_type": "code",
      "metadata": {
        "id": "mdunk2L_pdjN"
      },
      "source": [
        "data_DTM.shape"
      ],
      "execution_count": null,
      "outputs": []
    },
    {
      "cell_type": "code",
      "metadata": {
        "id": "hPVUo664p2a5"
      },
      "source": [
        ""
      ],
      "execution_count": null,
      "outputs": []
    }
  ]
}