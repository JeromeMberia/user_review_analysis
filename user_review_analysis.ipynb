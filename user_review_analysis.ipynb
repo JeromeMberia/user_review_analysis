{
  "nbformat": 4,
  "nbformat_minor": 0,
  "metadata": {
    "colab": {
      "name": "user_review_analysis.ipynb",
      "provenance": [],
      "collapsed_sections": [],
      "toc_visible": true,
      "include_colab_link": true
    },
    "kernelspec": {
      "name": "python3",
      "display_name": "Python 3"
    }
  },
  "cells": [
    {
      "cell_type": "markdown",
      "metadata": {
        "id": "view-in-github",
        "colab_type": "text"
      },
      "source": [
        "<a href=\"https://colab.research.google.com/github/JeromeMberia/user_review_analysis/blob/main/user_review_analysis.ipynb\" target=\"_parent\"><img src=\"https://colab.research.google.com/assets/colab-badge.svg\" alt=\"Open In Colab\"/></a>"
      ]
    },
    {
      "cell_type": "code",
      "metadata": {
        "id": "UxHSSiIlOGrW"
      },
      "source": [
        "#importing the libraries\r\n",
        "import pandas as pd\r\n",
        "import numpy as np\r\n",
        "import string"
      ],
      "execution_count": 1,
      "outputs": []
    },
    {
      "cell_type": "code",
      "metadata": {
        "id": "8G7P8FLnOmLP",
        "colab": {
          "base_uri": "https://localhost:8080/",
          "height": 197
        },
        "outputId": "bab08dab-7c89-487d-b199-b1902c3148f7"
      },
      "source": [
        "#uploading and readin the dataset\r\n",
        "data = pd.read_csv(\"/content/user_review_data.csv\")\r\n",
        "data.head()"
      ],
      "execution_count": 2,
      "outputs": [
        {
          "output_type": "execute_result",
          "data": {
            "text/html": [
              "<div>\n",
              "<style scoped>\n",
              "    .dataframe tbody tr th:only-of-type {\n",
              "        vertical-align: middle;\n",
              "    }\n",
              "\n",
              "    .dataframe tbody tr th {\n",
              "        vertical-align: top;\n",
              "    }\n",
              "\n",
              "    .dataframe thead th {\n",
              "        text-align: right;\n",
              "    }\n",
              "</style>\n",
              "<table border=\"1\" class=\"dataframe\">\n",
              "  <thead>\n",
              "    <tr style=\"text-align: right;\">\n",
              "      <th></th>\n",
              "      <th>review_body</th>\n",
              "      <th>star_rating</th>\n",
              "    </tr>\n",
              "  </thead>\n",
              "  <tbody>\n",
              "    <tr>\n",
              "      <th>0</th>\n",
              "      <td>Good luck finding a reasonably priced band rep...</td>\n",
              "      <td>1</td>\n",
              "    </tr>\n",
              "    <tr>\n",
              "      <th>1</th>\n",
              "      <td>No i get dark on the first week with me!! I wi...</td>\n",
              "      <td>1</td>\n",
              "    </tr>\n",
              "    <tr>\n",
              "      <th>2</th>\n",
              "      <td>I dont know if mine was a mistake but it clear...</td>\n",
              "      <td>1</td>\n",
              "    </tr>\n",
              "    <tr>\n",
              "      <th>3</th>\n",
              "      <td>The rod that holds the bracelet broke several ...</td>\n",
              "      <td>1</td>\n",
              "    </tr>\n",
              "    <tr>\n",
              "      <th>4</th>\n",
              "      <td>I bought 2 watches , one watch doesnot work at...</td>\n",
              "      <td>1</td>\n",
              "    </tr>\n",
              "  </tbody>\n",
              "</table>\n",
              "</div>"
            ],
            "text/plain": [
              "                                         review_body  star_rating\n",
              "0  Good luck finding a reasonably priced band rep...            1\n",
              "1  No i get dark on the first week with me!! I wi...            1\n",
              "2  I dont know if mine was a mistake but it clear...            1\n",
              "3  The rod that holds the bracelet broke several ...            1\n",
              "4  I bought 2 watches , one watch doesnot work at...            1"
            ]
          },
          "metadata": {
            "tags": []
          },
          "execution_count": 2
        }
      ]
    },
    {
      "cell_type": "markdown",
      "metadata": {
        "id": "yux-xZIk4NM2"
      },
      "source": [
        ""
      ]
    },
    {
      "cell_type": "code",
      "metadata": {
        "colab": {
          "base_uri": "https://localhost:8080/",
          "height": 197
        },
        "id": "zGP3zny34c4s",
        "outputId": "1cf6b879-2ba2-4c6f-9971-c5e98a94bdf5"
      },
      "source": [
        "#checking the top 5 rows\r\n",
        "data.head()"
      ],
      "execution_count": 3,
      "outputs": [
        {
          "output_type": "execute_result",
          "data": {
            "text/html": [
              "<div>\n",
              "<style scoped>\n",
              "    .dataframe tbody tr th:only-of-type {\n",
              "        vertical-align: middle;\n",
              "    }\n",
              "\n",
              "    .dataframe tbody tr th {\n",
              "        vertical-align: top;\n",
              "    }\n",
              "\n",
              "    .dataframe thead th {\n",
              "        text-align: right;\n",
              "    }\n",
              "</style>\n",
              "<table border=\"1\" class=\"dataframe\">\n",
              "  <thead>\n",
              "    <tr style=\"text-align: right;\">\n",
              "      <th></th>\n",
              "      <th>review_body</th>\n",
              "      <th>star_rating</th>\n",
              "    </tr>\n",
              "  </thead>\n",
              "  <tbody>\n",
              "    <tr>\n",
              "      <th>0</th>\n",
              "      <td>Good luck finding a reasonably priced band rep...</td>\n",
              "      <td>1</td>\n",
              "    </tr>\n",
              "    <tr>\n",
              "      <th>1</th>\n",
              "      <td>No i get dark on the first week with me!! I wi...</td>\n",
              "      <td>1</td>\n",
              "    </tr>\n",
              "    <tr>\n",
              "      <th>2</th>\n",
              "      <td>I dont know if mine was a mistake but it clear...</td>\n",
              "      <td>1</td>\n",
              "    </tr>\n",
              "    <tr>\n",
              "      <th>3</th>\n",
              "      <td>The rod that holds the bracelet broke several ...</td>\n",
              "      <td>1</td>\n",
              "    </tr>\n",
              "    <tr>\n",
              "      <th>4</th>\n",
              "      <td>I bought 2 watches , one watch doesnot work at...</td>\n",
              "      <td>1</td>\n",
              "    </tr>\n",
              "  </tbody>\n",
              "</table>\n",
              "</div>"
            ],
            "text/plain": [
              "                                         review_body  star_rating\n",
              "0  Good luck finding a reasonably priced band rep...            1\n",
              "1  No i get dark on the first week with me!! I wi...            1\n",
              "2  I dont know if mine was a mistake but it clear...            1\n",
              "3  The rod that holds the bracelet broke several ...            1\n",
              "4  I bought 2 watches , one watch doesnot work at...            1"
            ]
          },
          "metadata": {
            "tags": []
          },
          "execution_count": 3
        }
      ]
    },
    {
      "cell_type": "code",
      "metadata": {
        "colab": {
          "base_uri": "https://localhost:8080/",
          "height": 197
        },
        "id": "S7pexGIg4cqc",
        "outputId": "3747ab2a-a331-4f2e-da7f-6382b770ef33"
      },
      "source": [
        "#checking the bottom 5 rows\r\n",
        "data.tail()"
      ],
      "execution_count": 4,
      "outputs": [
        {
          "output_type": "execute_result",
          "data": {
            "text/html": [
              "<div>\n",
              "<style scoped>\n",
              "    .dataframe tbody tr th:only-of-type {\n",
              "        vertical-align: middle;\n",
              "    }\n",
              "\n",
              "    .dataframe tbody tr th {\n",
              "        vertical-align: top;\n",
              "    }\n",
              "\n",
              "    .dataframe thead th {\n",
              "        text-align: right;\n",
              "    }\n",
              "</style>\n",
              "<table border=\"1\" class=\"dataframe\">\n",
              "  <thead>\n",
              "    <tr style=\"text-align: right;\">\n",
              "      <th></th>\n",
              "      <th>review_body</th>\n",
              "      <th>star_rating</th>\n",
              "    </tr>\n",
              "  </thead>\n",
              "  <tbody>\n",
              "    <tr>\n",
              "      <th>14995</th>\n",
              "      <td>I have a TAG Heuer carrera twin time watch, wh...</td>\n",
              "      <td>5</td>\n",
              "    </tr>\n",
              "    <tr>\n",
              "      <th>14996</th>\n",
              "      <td>It is hard sometimes to judge a product by its...</td>\n",
              "      <td>5</td>\n",
              "    </tr>\n",
              "    <tr>\n",
              "      <th>14997</th>\n",
              "      <td>reloj en perfecto estado llego todo a tiempo l...</td>\n",
              "      <td>5</td>\n",
              "    </tr>\n",
              "    <tr>\n",
              "      <th>14998</th>\n",
              "      <td>This is my third ironman.  There are more expe...</td>\n",
              "      <td>5</td>\n",
              "    </tr>\n",
              "    <tr>\n",
              "      <th>14999</th>\n",
              "      <td>i use it everyday</td>\n",
              "      <td>5</td>\n",
              "    </tr>\n",
              "  </tbody>\n",
              "</table>\n",
              "</div>"
            ],
            "text/plain": [
              "                                             review_body  star_rating\n",
              "14995  I have a TAG Heuer carrera twin time watch, wh...            5\n",
              "14996  It is hard sometimes to judge a product by its...            5\n",
              "14997  reloj en perfecto estado llego todo a tiempo l...            5\n",
              "14998  This is my third ironman.  There are more expe...            5\n",
              "14999                                  i use it everyday            5"
            ]
          },
          "metadata": {
            "tags": []
          },
          "execution_count": 4
        }
      ]
    },
    {
      "cell_type": "code",
      "metadata": {
        "colab": {
          "base_uri": "https://localhost:8080/"
        },
        "id": "wsBVv-TA3e61",
        "outputId": "78683f64-b2df-4306-8f4f-043cecf45feb"
      },
      "source": [
        "#Getting the dataset shape.\r\n",
        "data.shape"
      ],
      "execution_count": 5,
      "outputs": [
        {
          "output_type": "execute_result",
          "data": {
            "text/plain": [
              "(15000, 2)"
            ]
          },
          "metadata": {
            "tags": []
          },
          "execution_count": 5
        }
      ]
    },
    {
      "cell_type": "code",
      "metadata": {
        "colab": {
          "base_uri": "https://localhost:8080/"
        },
        "id": "xnyezhGd31bG",
        "outputId": "be7c0f82-153d-45b3-bae1-7337f180933d"
      },
      "source": [
        "##Get the summary of this dataframe\r\n",
        "data.info()"
      ],
      "execution_count": 6,
      "outputs": [
        {
          "output_type": "stream",
          "text": [
            "<class 'pandas.core.frame.DataFrame'>\n",
            "RangeIndex: 15000 entries, 0 to 14999\n",
            "Data columns (total 2 columns):\n",
            " #   Column       Non-Null Count  Dtype \n",
            "---  ------       --------------  ----- \n",
            " 0   review_body  15000 non-null  object\n",
            " 1   star_rating  15000 non-null  int64 \n",
            "dtypes: int64(1), object(1)\n",
            "memory usage: 234.5+ KB\n"
          ],
          "name": "stdout"
        }
      ]
    },
    {
      "cell_type": "markdown",
      "metadata": {
        "id": "eP34yXDzsBFx"
      },
      "source": [
        "observation: our dataset comprise of object and integer datatype. both colunms has 15000 values, this is a clue of no missing values. "
      ]
    },
    {
      "cell_type": "code",
      "metadata": {
        "colab": {
          "base_uri": "https://localhost:8080/"
        },
        "id": "jf3k3yQNJldO",
        "outputId": "a9198c05-d443-42b5-d002-2f1ba0d085c3"
      },
      "source": [
        "#checking the body_review variable values\r\n",
        "data['review_body'].sample(n=10, random_state=610)"
      ],
      "execution_count": 7,
      "outputs": [
        {
          "output_type": "execute_result",
          "data": {
            "text/plain": [
              "3293     The delivery was prompt. I got the correct pro...\n",
              "5328                                    not silent running\n",
              "13737                                         good quality\n",
              "3751     not happy<br /><br />  the band is very stiff ...\n",
              "14280                                            Excellent\n",
              "7552                 A backlight would be a useful feature\n",
              "13104    So far so good with this product. My fiancée i...\n",
              "11599    This is a nice watch, however it is a little h...\n",
              "6004     IT IS OK. SEEMS TO BE A GOOD QUALITY. I RECOME...\n",
              "2401     Similar to this watch. Undelivered to this dat...\n",
              "Name: review_body, dtype: object"
            ]
          },
          "metadata": {
            "tags": []
          },
          "execution_count": 7
        }
      ]
    },
    {
      "cell_type": "markdown",
      "metadata": {
        "id": "--lAN9sMsm8Q"
      },
      "source": [
        "observation: the values comprises of words, symbols, panctuations and so on."
      ]
    },
    {
      "cell_type": "code",
      "metadata": {
        "colab": {
          "base_uri": "https://localhost:8080/",
          "height": 257
        },
        "id": "eqqpPNlt_knE",
        "outputId": "7915530e-603b-419b-f748-563b3b9838c0"
      },
      "source": [
        "#Using groupby will check the data\r\n",
        "data.groupby('star_rating').describe()"
      ],
      "execution_count": 8,
      "outputs": [
        {
          "output_type": "execute_result",
          "data": {
            "text/html": [
              "<div>\n",
              "<style scoped>\n",
              "    .dataframe tbody tr th:only-of-type {\n",
              "        vertical-align: middle;\n",
              "    }\n",
              "\n",
              "    .dataframe tbody tr th {\n",
              "        vertical-align: top;\n",
              "    }\n",
              "\n",
              "    .dataframe thead tr th {\n",
              "        text-align: left;\n",
              "    }\n",
              "\n",
              "    .dataframe thead tr:last-of-type th {\n",
              "        text-align: right;\n",
              "    }\n",
              "</style>\n",
              "<table border=\"1\" class=\"dataframe\">\n",
              "  <thead>\n",
              "    <tr>\n",
              "      <th></th>\n",
              "      <th colspan=\"4\" halign=\"left\">review_body</th>\n",
              "    </tr>\n",
              "    <tr>\n",
              "      <th></th>\n",
              "      <th>count</th>\n",
              "      <th>unique</th>\n",
              "      <th>top</th>\n",
              "      <th>freq</th>\n",
              "    </tr>\n",
              "    <tr>\n",
              "      <th>star_rating</th>\n",
              "      <th></th>\n",
              "      <th></th>\n",
              "      <th></th>\n",
              "      <th></th>\n",
              "    </tr>\n",
              "  </thead>\n",
              "  <tbody>\n",
              "    <tr>\n",
              "      <th>1</th>\n",
              "      <td>3000</td>\n",
              "      <td>2935</td>\n",
              "      <td>Please do yourself a favor and if you want a w...</td>\n",
              "      <td>3</td>\n",
              "    </tr>\n",
              "    <tr>\n",
              "      <th>2</th>\n",
              "      <td>3000</td>\n",
              "      <td>2896</td>\n",
              "      <td>ok</td>\n",
              "      <td>4</td>\n",
              "    </tr>\n",
              "    <tr>\n",
              "      <th>3</th>\n",
              "      <td>3000</td>\n",
              "      <td>2905</td>\n",
              "      <td>good</td>\n",
              "      <td>7</td>\n",
              "    </tr>\n",
              "    <tr>\n",
              "      <th>4</th>\n",
              "      <td>3000</td>\n",
              "      <td>2929</td>\n",
              "      <td>Good</td>\n",
              "      <td>11</td>\n",
              "    </tr>\n",
              "    <tr>\n",
              "      <th>5</th>\n",
              "      <td>3000</td>\n",
              "      <td>2896</td>\n",
              "      <td>Excellent</td>\n",
              "      <td>8</td>\n",
              "    </tr>\n",
              "  </tbody>\n",
              "</table>\n",
              "</div>"
            ],
            "text/plain": [
              "            review_body  ...     \n",
              "                  count  ... freq\n",
              "star_rating              ...     \n",
              "1                  3000  ...    3\n",
              "2                  3000  ...    4\n",
              "3                  3000  ...    7\n",
              "4                  3000  ...   11\n",
              "5                  3000  ...    8\n",
              "\n",
              "[5 rows x 4 columns]"
            ]
          },
          "metadata": {
            "tags": []
          },
          "execution_count": 8
        }
      ]
    },
    {
      "cell_type": "code",
      "metadata": {
        "id": "mqeSXDUb_8gR"
      },
      "source": [
        ""
      ],
      "execution_count": 8,
      "outputs": []
    },
    {
      "cell_type": "code",
      "metadata": {
        "colab": {
          "base_uri": "https://localhost:8080/"
        },
        "id": "noDI8RS135dN",
        "outputId": "084ae04c-9cd1-4588-942f-043db370320c"
      },
      "source": [
        "#previewing the dataset variables\r\n",
        "data.columns"
      ],
      "execution_count": 9,
      "outputs": [
        {
          "output_type": "execute_result",
          "data": {
            "text/plain": [
              "Index(['review_body', 'star_rating'], dtype='object')"
            ]
          },
          "metadata": {
            "tags": []
          },
          "execution_count": 9
        }
      ]
    },
    {
      "cell_type": "markdown",
      "metadata": {
        "id": "fnVFLFPKs8UC"
      },
      "source": [
        "observation: the two colunms are, review_body, and star_rating."
      ]
    },
    {
      "cell_type": "markdown",
      "metadata": {
        "id": "FIhiZDUjq5yH"
      },
      "source": [
        "## Pre processing the data\r\n",
        "\r\n",
        "Here we will check for missing values, duplicates, outliers and remove any unnecessary variables/features/columns if any. other preprocessing procedures are tokenizing(spliting),stemming and lemmatization."
      ]
    },
    {
      "cell_type": "code",
      "metadata": {
        "colab": {
          "base_uri": "https://localhost:8080/",
          "height": 347
        },
        "id": "Y5iTYTOg423T",
        "outputId": "f51abb46-f74c-411f-8c70-9f5b577f6e07"
      },
      "source": [
        "#checking for the missing values\r\n",
        "data_corpus = data.copy()\r\n",
        "data_corpus.head(10)"
      ],
      "execution_count": 10,
      "outputs": [
        {
          "output_type": "execute_result",
          "data": {
            "text/html": [
              "<div>\n",
              "<style scoped>\n",
              "    .dataframe tbody tr th:only-of-type {\n",
              "        vertical-align: middle;\n",
              "    }\n",
              "\n",
              "    .dataframe tbody tr th {\n",
              "        vertical-align: top;\n",
              "    }\n",
              "\n",
              "    .dataframe thead th {\n",
              "        text-align: right;\n",
              "    }\n",
              "</style>\n",
              "<table border=\"1\" class=\"dataframe\">\n",
              "  <thead>\n",
              "    <tr style=\"text-align: right;\">\n",
              "      <th></th>\n",
              "      <th>review_body</th>\n",
              "      <th>star_rating</th>\n",
              "    </tr>\n",
              "  </thead>\n",
              "  <tbody>\n",
              "    <tr>\n",
              "      <th>0</th>\n",
              "      <td>Good luck finding a reasonably priced band rep...</td>\n",
              "      <td>1</td>\n",
              "    </tr>\n",
              "    <tr>\n",
              "      <th>1</th>\n",
              "      <td>No i get dark on the first week with me!! I wi...</td>\n",
              "      <td>1</td>\n",
              "    </tr>\n",
              "    <tr>\n",
              "      <th>2</th>\n",
              "      <td>I dont know if mine was a mistake but it clear...</td>\n",
              "      <td>1</td>\n",
              "    </tr>\n",
              "    <tr>\n",
              "      <th>3</th>\n",
              "      <td>The rod that holds the bracelet broke several ...</td>\n",
              "      <td>1</td>\n",
              "    </tr>\n",
              "    <tr>\n",
              "      <th>4</th>\n",
              "      <td>I bought 2 watches , one watch doesnot work at...</td>\n",
              "      <td>1</td>\n",
              "    </tr>\n",
              "    <tr>\n",
              "      <th>5</th>\n",
              "      <td>This watch would have been fantastic, if it ha...</td>\n",
              "      <td>1</td>\n",
              "    </tr>\n",
              "    <tr>\n",
              "      <th>6</th>\n",
              "      <td>I have this watch. It looks and feels heavy du...</td>\n",
              "      <td>1</td>\n",
              "    </tr>\n",
              "    <tr>\n",
              "      <th>7</th>\n",
              "      <td>What the hell! I just got the watch today but ...</td>\n",
              "      <td>1</td>\n",
              "    </tr>\n",
              "    <tr>\n",
              "      <th>8</th>\n",
              "      <td>I am mechanically inclined but cannot get this...</td>\n",
              "      <td>1</td>\n",
              "    </tr>\n",
              "    <tr>\n",
              "      <th>9</th>\n",
              "      <td>It didnt work right out from the box. I had to...</td>\n",
              "      <td>1</td>\n",
              "    </tr>\n",
              "  </tbody>\n",
              "</table>\n",
              "</div>"
            ],
            "text/plain": [
              "                                         review_body  star_rating\n",
              "0  Good luck finding a reasonably priced band rep...            1\n",
              "1  No i get dark on the first week with me!! I wi...            1\n",
              "2  I dont know if mine was a mistake but it clear...            1\n",
              "3  The rod that holds the bracelet broke several ...            1\n",
              "4  I bought 2 watches , one watch doesnot work at...            1\n",
              "5  This watch would have been fantastic, if it ha...            1\n",
              "6  I have this watch. It looks and feels heavy du...            1\n",
              "7  What the hell! I just got the watch today but ...            1\n",
              "8  I am mechanically inclined but cannot get this...            1\n",
              "9  It didnt work right out from the box. I had to...            1"
            ]
          },
          "metadata": {
            "tags": []
          },
          "execution_count": 10
        }
      ]
    },
    {
      "cell_type": "markdown",
      "metadata": {
        "id": "1Qu26FrruiOu"
      },
      "source": [
        "observation: there is no missing values"
      ]
    },
    {
      "cell_type": "code",
      "metadata": {
        "colab": {
          "base_uri": "https://localhost:8080/"
        },
        "id": "7jVwvEu0umog",
        "outputId": "d05d72be-cd20-4a4e-84dd-7b7983ee272a"
      },
      "source": [
        "#Checking for duplicates\r\n",
        "data_corpus.duplicated().sum()"
      ],
      "execution_count": 11,
      "outputs": [
        {
          "output_type": "execute_result",
          "data": {
            "text/plain": [
              "439"
            ]
          },
          "metadata": {
            "tags": []
          },
          "execution_count": 11
        }
      ]
    },
    {
      "cell_type": "markdown",
      "metadata": {
        "id": "h7o2UoAQ19aE"
      },
      "source": [
        "observation: there are 439 duplicates."
      ]
    },
    {
      "cell_type": "code",
      "metadata": {
        "colab": {
          "base_uri": "https://localhost:8080/"
        },
        "id": "xG3b0PCR1dbo",
        "outputId": "685b206a-dd9a-4a97-ff22-9bb8b6700e8c"
      },
      "source": [
        "#dropping the duplicates\r\n",
        "data_corpus.drop_duplicates(inplace=True)\r\n",
        "#\r\n",
        "#confirming no duplicates\r\n",
        "data_corpus.duplicated().any()"
      ],
      "execution_count": 12,
      "outputs": [
        {
          "output_type": "execute_result",
          "data": {
            "text/plain": [
              "False"
            ]
          },
          "metadata": {
            "tags": []
          },
          "execution_count": 12
        }
      ]
    },
    {
      "cell_type": "markdown",
      "metadata": {
        "id": "Mnce2U7Q2D2k"
      },
      "source": [
        "observation: duplicates have been dropped."
      ]
    },
    {
      "cell_type": "markdown",
      "metadata": {
        "id": "KpI2yKqQ6vMO"
      },
      "source": [
        "observation, there are several panctuations. "
      ]
    },
    {
      "cell_type": "code",
      "metadata": {
        "id": "QKkSOJby7uIH",
        "colab": {
          "base_uri": "https://localhost:8080/",
          "height": 406
        },
        "outputId": "9b25e4c6-2ce7-4fa2-8d13-4b833178ae78"
      },
      "source": [
        "import re\r\n",
        "import string\r\n",
        "\r\n",
        "def clean_text_round1(text):\r\n",
        "  '''Remove HTML tags, remove punctuation, make text lowercase, remove punctuation and remove words containing numbers.'''\r\n",
        "  text = re.sub('<.*?>','', text)\r\n",
        "  text = re.sub('[%s]' % re.escape(string.punctuation), '', text)\r\n",
        "  text = text.lower()\r\n",
        "  text = re.sub('\\d', '', text)\r\n",
        "  return text\r\n",
        "\r\n",
        "fix = lambda x: clean_text_round1(x)\r\n",
        "data_corpus['review_body'] = pd.DataFrame(data_corpus.review_body.apply(fix))\r\n",
        "data_corpus"
      ],
      "execution_count": 13,
      "outputs": [
        {
          "output_type": "execute_result",
          "data": {
            "text/html": [
              "<div>\n",
              "<style scoped>\n",
              "    .dataframe tbody tr th:only-of-type {\n",
              "        vertical-align: middle;\n",
              "    }\n",
              "\n",
              "    .dataframe tbody tr th {\n",
              "        vertical-align: top;\n",
              "    }\n",
              "\n",
              "    .dataframe thead th {\n",
              "        text-align: right;\n",
              "    }\n",
              "</style>\n",
              "<table border=\"1\" class=\"dataframe\">\n",
              "  <thead>\n",
              "    <tr style=\"text-align: right;\">\n",
              "      <th></th>\n",
              "      <th>review_body</th>\n",
              "      <th>star_rating</th>\n",
              "    </tr>\n",
              "  </thead>\n",
              "  <tbody>\n",
              "    <tr>\n",
              "      <th>0</th>\n",
              "      <td>good luck finding a reasonably priced band rep...</td>\n",
              "      <td>1</td>\n",
              "    </tr>\n",
              "    <tr>\n",
              "      <th>1</th>\n",
              "      <td>no i get dark on the first week with me i will...</td>\n",
              "      <td>1</td>\n",
              "    </tr>\n",
              "    <tr>\n",
              "      <th>2</th>\n",
              "      <td>i dont know if mine was a mistake but it clear...</td>\n",
              "      <td>1</td>\n",
              "    </tr>\n",
              "    <tr>\n",
              "      <th>3</th>\n",
              "      <td>the rod that holds the bracelet broke several ...</td>\n",
              "      <td>1</td>\n",
              "    </tr>\n",
              "    <tr>\n",
              "      <th>4</th>\n",
              "      <td>i bought  watches  one watch doesnot work at a...</td>\n",
              "      <td>1</td>\n",
              "    </tr>\n",
              "    <tr>\n",
              "      <th>...</th>\n",
              "      <td>...</td>\n",
              "      <td>...</td>\n",
              "    </tr>\n",
              "    <tr>\n",
              "      <th>14995</th>\n",
              "      <td>i have a tag heuer carrera twin time watch who...</td>\n",
              "      <td>5</td>\n",
              "    </tr>\n",
              "    <tr>\n",
              "      <th>14996</th>\n",
              "      <td>it is hard sometimes to judge a product by its...</td>\n",
              "      <td>5</td>\n",
              "    </tr>\n",
              "    <tr>\n",
              "      <th>14997</th>\n",
              "      <td>reloj en perfecto estado llego todo a tiempo l...</td>\n",
              "      <td>5</td>\n",
              "    </tr>\n",
              "    <tr>\n",
              "      <th>14998</th>\n",
              "      <td>this is my third ironman  there are more expen...</td>\n",
              "      <td>5</td>\n",
              "    </tr>\n",
              "    <tr>\n",
              "      <th>14999</th>\n",
              "      <td>i use it everyday</td>\n",
              "      <td>5</td>\n",
              "    </tr>\n",
              "  </tbody>\n",
              "</table>\n",
              "<p>14561 rows × 2 columns</p>\n",
              "</div>"
            ],
            "text/plain": [
              "                                             review_body  star_rating\n",
              "0      good luck finding a reasonably priced band rep...            1\n",
              "1      no i get dark on the first week with me i will...            1\n",
              "2      i dont know if mine was a mistake but it clear...            1\n",
              "3      the rod that holds the bracelet broke several ...            1\n",
              "4      i bought  watches  one watch doesnot work at a...            1\n",
              "...                                                  ...          ...\n",
              "14995  i have a tag heuer carrera twin time watch who...            5\n",
              "14996  it is hard sometimes to judge a product by its...            5\n",
              "14997  reloj en perfecto estado llego todo a tiempo l...            5\n",
              "14998  this is my third ironman  there are more expen...            5\n",
              "14999                                  i use it everyday            5\n",
              "\n",
              "[14561 rows x 2 columns]"
            ]
          },
          "metadata": {
            "tags": []
          },
          "execution_count": 13
        }
      ]
    },
    {
      "cell_type": "code",
      "metadata": {
        "id": "64mILwA7UNVr"
      },
      "source": [
        ""
      ],
      "execution_count": null,
      "outputs": []
    },
    {
      "cell_type": "code",
      "metadata": {
        "id": "-5ZZcz-7SvuJ"
      },
      "source": [
        ""
      ],
      "execution_count": null,
      "outputs": []
    }
  ]
}