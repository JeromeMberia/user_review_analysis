{
  "nbformat": 4,
  "nbformat_minor": 0,
  "metadata": {
    "colab": {
      "name": "user_review_analysis.ipynb",
      "provenance": [],
      "collapsed_sections": [],
      "toc_visible": true,
      "include_colab_link": true
    },
    "kernelspec": {
      "name": "python3",
      "display_name": "Python 3"
    }
  },
  "cells": [
    {
      "cell_type": "markdown",
      "metadata": {
        "id": "view-in-github",
        "colab_type": "text"
      },
      "source": [
        "<a href=\"https://colab.research.google.com/github/JeromeMberia/user_review_analysis/blob/main/user_review_analysis.ipynb\" target=\"_parent\"><img src=\"https://colab.research.google.com/assets/colab-badge.svg\" alt=\"Open In Colab\"/></a>"
      ]
    },
    {
      "cell_type": "code",
      "metadata": {
        "id": "UxHSSiIlOGrW"
      },
      "source": [
        "#importing the libraries\r\n",
        "import pandas as pd\r\n",
        "import numpy as np\r\n",
        "import string"
      ],
      "execution_count": null,
      "outputs": []
    },
    {
      "cell_type": "code",
      "metadata": {
        "id": "8G7P8FLnOmLP",
        "colab": {
          "base_uri": "https://localhost:8080/",
          "height": 204
        },
        "outputId": "d78fcd89-a281-4027-e5ff-a0a08f751a83"
      },
      "source": [
        "#uploading and readin the dataset\r\n",
        "data = pd.read_csv(\"/content/user_review_data.csv\")\r\n",
        "data.head()"
      ],
      "execution_count": null,
      "outputs": [
        {
          "output_type": "execute_result",
          "data": {
            "text/html": [
              "<div>\n",
              "<style scoped>\n",
              "    .dataframe tbody tr th:only-of-type {\n",
              "        vertical-align: middle;\n",
              "    }\n",
              "\n",
              "    .dataframe tbody tr th {\n",
              "        vertical-align: top;\n",
              "    }\n",
              "\n",
              "    .dataframe thead th {\n",
              "        text-align: right;\n",
              "    }\n",
              "</style>\n",
              "<table border=\"1\" class=\"dataframe\">\n",
              "  <thead>\n",
              "    <tr style=\"text-align: right;\">\n",
              "      <th></th>\n",
              "      <th>review_body</th>\n",
              "      <th>star_rating</th>\n",
              "    </tr>\n",
              "  </thead>\n",
              "  <tbody>\n",
              "    <tr>\n",
              "      <th>0</th>\n",
              "      <td>Good luck finding a reasonably priced band rep...</td>\n",
              "      <td>1</td>\n",
              "    </tr>\n",
              "    <tr>\n",
              "      <th>1</th>\n",
              "      <td>No i get dark on the first week with me!! I wi...</td>\n",
              "      <td>1</td>\n",
              "    </tr>\n",
              "    <tr>\n",
              "      <th>2</th>\n",
              "      <td>I dont know if mine was a mistake but it clear...</td>\n",
              "      <td>1</td>\n",
              "    </tr>\n",
              "    <tr>\n",
              "      <th>3</th>\n",
              "      <td>The rod that holds the bracelet broke several ...</td>\n",
              "      <td>1</td>\n",
              "    </tr>\n",
              "    <tr>\n",
              "      <th>4</th>\n",
              "      <td>I bought 2 watches , one watch doesnot work at...</td>\n",
              "      <td>1</td>\n",
              "    </tr>\n",
              "  </tbody>\n",
              "</table>\n",
              "</div>"
            ],
            "text/plain": [
              "                                         review_body  star_rating\n",
              "0  Good luck finding a reasonably priced band rep...            1\n",
              "1  No i get dark on the first week with me!! I wi...            1\n",
              "2  I dont know if mine was a mistake but it clear...            1\n",
              "3  The rod that holds the bracelet broke several ...            1\n",
              "4  I bought 2 watches , one watch doesnot work at...            1"
            ]
          },
          "metadata": {
            "tags": []
          },
          "execution_count": 2
        }
      ]
    },
    {
      "cell_type": "markdown",
      "metadata": {
        "id": "yux-xZIk4NM2"
      },
      "source": [
        ""
      ]
    },
    {
      "cell_type": "code",
      "metadata": {
        "colab": {
          "base_uri": "https://localhost:8080/",
          "height": 204
        },
        "id": "zGP3zny34c4s",
        "outputId": "7934644f-db4b-457e-a09d-2186984d60af"
      },
      "source": [
        "#checking the top 5 rows\r\n",
        "data.head()"
      ],
      "execution_count": null,
      "outputs": [
        {
          "output_type": "execute_result",
          "data": {
            "text/html": [
              "<div>\n",
              "<style scoped>\n",
              "    .dataframe tbody tr th:only-of-type {\n",
              "        vertical-align: middle;\n",
              "    }\n",
              "\n",
              "    .dataframe tbody tr th {\n",
              "        vertical-align: top;\n",
              "    }\n",
              "\n",
              "    .dataframe thead th {\n",
              "        text-align: right;\n",
              "    }\n",
              "</style>\n",
              "<table border=\"1\" class=\"dataframe\">\n",
              "  <thead>\n",
              "    <tr style=\"text-align: right;\">\n",
              "      <th></th>\n",
              "      <th>review_body</th>\n",
              "      <th>star_rating</th>\n",
              "    </tr>\n",
              "  </thead>\n",
              "  <tbody>\n",
              "    <tr>\n",
              "      <th>0</th>\n",
              "      <td>Good luck finding a reasonably priced band rep...</td>\n",
              "      <td>1</td>\n",
              "    </tr>\n",
              "    <tr>\n",
              "      <th>1</th>\n",
              "      <td>No i get dark on the first week with me!! I wi...</td>\n",
              "      <td>1</td>\n",
              "    </tr>\n",
              "    <tr>\n",
              "      <th>2</th>\n",
              "      <td>I dont know if mine was a mistake but it clear...</td>\n",
              "      <td>1</td>\n",
              "    </tr>\n",
              "    <tr>\n",
              "      <th>3</th>\n",
              "      <td>The rod that holds the bracelet broke several ...</td>\n",
              "      <td>1</td>\n",
              "    </tr>\n",
              "    <tr>\n",
              "      <th>4</th>\n",
              "      <td>I bought 2 watches , one watch doesnot work at...</td>\n",
              "      <td>1</td>\n",
              "    </tr>\n",
              "  </tbody>\n",
              "</table>\n",
              "</div>"
            ],
            "text/plain": [
              "                                         review_body  star_rating\n",
              "0  Good luck finding a reasonably priced band rep...            1\n",
              "1  No i get dark on the first week with me!! I wi...            1\n",
              "2  I dont know if mine was a mistake but it clear...            1\n",
              "3  The rod that holds the bracelet broke several ...            1\n",
              "4  I bought 2 watches , one watch doesnot work at...            1"
            ]
          },
          "metadata": {
            "tags": []
          },
          "execution_count": 3
        }
      ]
    },
    {
      "cell_type": "code",
      "metadata": {
        "colab": {
          "base_uri": "https://localhost:8080/",
          "height": 204
        },
        "id": "S7pexGIg4cqc",
        "outputId": "314a8072-a67c-4b70-c330-d6578fc553c4"
      },
      "source": [
        "#checking the bottom 5 rows\r\n",
        "data.tail()"
      ],
      "execution_count": null,
      "outputs": [
        {
          "output_type": "execute_result",
          "data": {
            "text/html": [
              "<div>\n",
              "<style scoped>\n",
              "    .dataframe tbody tr th:only-of-type {\n",
              "        vertical-align: middle;\n",
              "    }\n",
              "\n",
              "    .dataframe tbody tr th {\n",
              "        vertical-align: top;\n",
              "    }\n",
              "\n",
              "    .dataframe thead th {\n",
              "        text-align: right;\n",
              "    }\n",
              "</style>\n",
              "<table border=\"1\" class=\"dataframe\">\n",
              "  <thead>\n",
              "    <tr style=\"text-align: right;\">\n",
              "      <th></th>\n",
              "      <th>review_body</th>\n",
              "      <th>star_rating</th>\n",
              "    </tr>\n",
              "  </thead>\n",
              "  <tbody>\n",
              "    <tr>\n",
              "      <th>14995</th>\n",
              "      <td>I have a TAG Heuer carrera twin time watch, wh...</td>\n",
              "      <td>5</td>\n",
              "    </tr>\n",
              "    <tr>\n",
              "      <th>14996</th>\n",
              "      <td>It is hard sometimes to judge a product by its...</td>\n",
              "      <td>5</td>\n",
              "    </tr>\n",
              "    <tr>\n",
              "      <th>14997</th>\n",
              "      <td>reloj en perfecto estado llego todo a tiempo l...</td>\n",
              "      <td>5</td>\n",
              "    </tr>\n",
              "    <tr>\n",
              "      <th>14998</th>\n",
              "      <td>This is my third ironman.  There are more expe...</td>\n",
              "      <td>5</td>\n",
              "    </tr>\n",
              "    <tr>\n",
              "      <th>14999</th>\n",
              "      <td>i use it everyday</td>\n",
              "      <td>5</td>\n",
              "    </tr>\n",
              "  </tbody>\n",
              "</table>\n",
              "</div>"
            ],
            "text/plain": [
              "                                             review_body  star_rating\n",
              "14995  I have a TAG Heuer carrera twin time watch, wh...            5\n",
              "14996  It is hard sometimes to judge a product by its...            5\n",
              "14997  reloj en perfecto estado llego todo a tiempo l...            5\n",
              "14998  This is my third ironman.  There are more expe...            5\n",
              "14999                                  i use it everyday            5"
            ]
          },
          "metadata": {
            "tags": []
          },
          "execution_count": 4
        }
      ]
    },
    {
      "cell_type": "code",
      "metadata": {
        "colab": {
          "base_uri": "https://localhost:8080/"
        },
        "id": "wsBVv-TA3e61",
        "outputId": "78617c52-ba54-458e-add0-b447d945a2d0"
      },
      "source": [
        "#Getting the dataset shape.\r\n",
        "data.shape"
      ],
      "execution_count": null,
      "outputs": [
        {
          "output_type": "execute_result",
          "data": {
            "text/plain": [
              "(15000, 2)"
            ]
          },
          "metadata": {
            "tags": []
          },
          "execution_count": 5
        }
      ]
    },
    {
      "cell_type": "code",
      "metadata": {
        "colab": {
          "base_uri": "https://localhost:8080/"
        },
        "id": "xnyezhGd31bG",
        "outputId": "892f9935-5ad2-4c5f-f77b-4fef9fa44210"
      },
      "source": [
        "##Get the summary of this dataframe\r\n",
        "data.info()"
      ],
      "execution_count": null,
      "outputs": [
        {
          "output_type": "stream",
          "text": [
            "<class 'pandas.core.frame.DataFrame'>\n",
            "RangeIndex: 15000 entries, 0 to 14999\n",
            "Data columns (total 2 columns):\n",
            " #   Column       Non-Null Count  Dtype \n",
            "---  ------       --------------  ----- \n",
            " 0   review_body  15000 non-null  object\n",
            " 1   star_rating  15000 non-null  int64 \n",
            "dtypes: int64(1), object(1)\n",
            "memory usage: 234.5+ KB\n"
          ],
          "name": "stdout"
        }
      ]
    },
    {
      "cell_type": "markdown",
      "metadata": {
        "id": "eP34yXDzsBFx"
      },
      "source": [
        "observation: our dataset comprise of object and integer datatype. both colunms has 15000 values, this is a clue of no missing values. "
      ]
    },
    {
      "cell_type": "code",
      "metadata": {
        "colab": {
          "base_uri": "https://localhost:8080/"
        },
        "id": "jf3k3yQNJldO",
        "outputId": "d4c550d6-9dec-4363-a07f-5be3a0c66a15"
      },
      "source": [
        "#checking the body_review variable values\r\n",
        "data['review_body'].sample(n=10, random_state=610)"
      ],
      "execution_count": null,
      "outputs": [
        {
          "output_type": "execute_result",
          "data": {
            "text/plain": [
              "3293     The delivery was prompt. I got the correct pro...\n",
              "5328                                    not silent running\n",
              "13737                                         good quality\n",
              "3751     not happy<br /><br />  the band is very stiff ...\n",
              "14280                                            Excellent\n",
              "7552                 A backlight would be a useful feature\n",
              "13104    So far so good with this product. My fiancée i...\n",
              "11599    This is a nice watch, however it is a little h...\n",
              "6004     IT IS OK. SEEMS TO BE A GOOD QUALITY. I RECOME...\n",
              "2401     Similar to this watch. Undelivered to this dat...\n",
              "Name: review_body, dtype: object"
            ]
          },
          "metadata": {
            "tags": []
          },
          "execution_count": 7
        }
      ]
    },
    {
      "cell_type": "markdown",
      "metadata": {
        "id": "--lAN9sMsm8Q"
      },
      "source": [
        "observation: the values comprises of words, symbols, panctuations and so on."
      ]
    },
    {
      "cell_type": "code",
      "metadata": {
        "colab": {
          "base_uri": "https://localhost:8080/",
          "height": 266
        },
        "id": "eqqpPNlt_knE",
        "outputId": "e9297c5c-4ce6-4dd6-91fd-4bc2d4112155"
      },
      "source": [
        "#Using groupby will check the data\r\n",
        "data.groupby('star_rating').describe()"
      ],
      "execution_count": null,
      "outputs": [
        {
          "output_type": "execute_result",
          "data": {
            "text/html": [
              "<div>\n",
              "<style scoped>\n",
              "    .dataframe tbody tr th:only-of-type {\n",
              "        vertical-align: middle;\n",
              "    }\n",
              "\n",
              "    .dataframe tbody tr th {\n",
              "        vertical-align: top;\n",
              "    }\n",
              "\n",
              "    .dataframe thead tr th {\n",
              "        text-align: left;\n",
              "    }\n",
              "\n",
              "    .dataframe thead tr:last-of-type th {\n",
              "        text-align: right;\n",
              "    }\n",
              "</style>\n",
              "<table border=\"1\" class=\"dataframe\">\n",
              "  <thead>\n",
              "    <tr>\n",
              "      <th></th>\n",
              "      <th colspan=\"4\" halign=\"left\">review_body</th>\n",
              "    </tr>\n",
              "    <tr>\n",
              "      <th></th>\n",
              "      <th>count</th>\n",
              "      <th>unique</th>\n",
              "      <th>top</th>\n",
              "      <th>freq</th>\n",
              "    </tr>\n",
              "    <tr>\n",
              "      <th>star_rating</th>\n",
              "      <th></th>\n",
              "      <th></th>\n",
              "      <th></th>\n",
              "      <th></th>\n",
              "    </tr>\n",
              "  </thead>\n",
              "  <tbody>\n",
              "    <tr>\n",
              "      <th>1</th>\n",
              "      <td>3000</td>\n",
              "      <td>2935</td>\n",
              "      <td>bad</td>\n",
              "      <td>3</td>\n",
              "    </tr>\n",
              "    <tr>\n",
              "      <th>2</th>\n",
              "      <td>3000</td>\n",
              "      <td>2896</td>\n",
              "      <td>ok</td>\n",
              "      <td>4</td>\n",
              "    </tr>\n",
              "    <tr>\n",
              "      <th>3</th>\n",
              "      <td>3000</td>\n",
              "      <td>2905</td>\n",
              "      <td>good</td>\n",
              "      <td>7</td>\n",
              "    </tr>\n",
              "    <tr>\n",
              "      <th>4</th>\n",
              "      <td>3000</td>\n",
              "      <td>2929</td>\n",
              "      <td>Good</td>\n",
              "      <td>11</td>\n",
              "    </tr>\n",
              "    <tr>\n",
              "      <th>5</th>\n",
              "      <td>3000</td>\n",
              "      <td>2896</td>\n",
              "      <td>good</td>\n",
              "      <td>8</td>\n",
              "    </tr>\n",
              "  </tbody>\n",
              "</table>\n",
              "</div>"
            ],
            "text/plain": [
              "            review_body                  \n",
              "                  count unique   top freq\n",
              "star_rating                              \n",
              "1                  3000   2935   bad    3\n",
              "2                  3000   2896    ok    4\n",
              "3                  3000   2905  good    7\n",
              "4                  3000   2929  Good   11\n",
              "5                  3000   2896  good    8"
            ]
          },
          "metadata": {
            "tags": []
          },
          "execution_count": 8
        }
      ]
    },
    {
      "cell_type": "code",
      "metadata": {
        "id": "mqeSXDUb_8gR"
      },
      "source": [
        ""
      ],
      "execution_count": null,
      "outputs": []
    },
    {
      "cell_type": "code",
      "metadata": {
        "colab": {
          "base_uri": "https://localhost:8080/"
        },
        "id": "noDI8RS135dN",
        "outputId": "3ee1dcec-a439-4720-a8e7-835f12e428e7"
      },
      "source": [
        "#previewing the dataset variables\r\n",
        "data.columns"
      ],
      "execution_count": null,
      "outputs": [
        {
          "output_type": "execute_result",
          "data": {
            "text/plain": [
              "Index(['review_body', 'star_rating'], dtype='object')"
            ]
          },
          "metadata": {
            "tags": []
          },
          "execution_count": 9
        }
      ]
    },
    {
      "cell_type": "markdown",
      "metadata": {
        "id": "fnVFLFPKs8UC"
      },
      "source": [
        "observation: the two colunms are, review_body, and star_rating."
      ]
    },
    {
      "cell_type": "markdown",
      "metadata": {
        "id": "FIhiZDUjq5yH"
      },
      "source": [
        "## Pre processing the data\r\n",
        "\r\n",
        "Here we will check for missing values, duplicates, outliers and remove any unnecessary variables/features/columns if any. other preprocessing procedures are tokenizing(spliting),stemming and lemmatization."
      ]
    },
    {
      "cell_type": "code",
      "metadata": {
        "colab": {
          "base_uri": "https://localhost:8080/",
          "height": 359
        },
        "id": "Y5iTYTOg423T",
        "outputId": "aac68da6-ccbd-4414-8f8c-d7931712f2e4"
      },
      "source": [
        "#checking for the missing values\r\n",
        "data_corpus = data.copy()\r\n",
        "data_corpus.head(10)"
      ],
      "execution_count": null,
      "outputs": [
        {
          "output_type": "execute_result",
          "data": {
            "text/html": [
              "<div>\n",
              "<style scoped>\n",
              "    .dataframe tbody tr th:only-of-type {\n",
              "        vertical-align: middle;\n",
              "    }\n",
              "\n",
              "    .dataframe tbody tr th {\n",
              "        vertical-align: top;\n",
              "    }\n",
              "\n",
              "    .dataframe thead th {\n",
              "        text-align: right;\n",
              "    }\n",
              "</style>\n",
              "<table border=\"1\" class=\"dataframe\">\n",
              "  <thead>\n",
              "    <tr style=\"text-align: right;\">\n",
              "      <th></th>\n",
              "      <th>review_body</th>\n",
              "      <th>star_rating</th>\n",
              "    </tr>\n",
              "  </thead>\n",
              "  <tbody>\n",
              "    <tr>\n",
              "      <th>0</th>\n",
              "      <td>Good luck finding a reasonably priced band rep...</td>\n",
              "      <td>1</td>\n",
              "    </tr>\n",
              "    <tr>\n",
              "      <th>1</th>\n",
              "      <td>No i get dark on the first week with me!! I wi...</td>\n",
              "      <td>1</td>\n",
              "    </tr>\n",
              "    <tr>\n",
              "      <th>2</th>\n",
              "      <td>I dont know if mine was a mistake but it clear...</td>\n",
              "      <td>1</td>\n",
              "    </tr>\n",
              "    <tr>\n",
              "      <th>3</th>\n",
              "      <td>The rod that holds the bracelet broke several ...</td>\n",
              "      <td>1</td>\n",
              "    </tr>\n",
              "    <tr>\n",
              "      <th>4</th>\n",
              "      <td>I bought 2 watches , one watch doesnot work at...</td>\n",
              "      <td>1</td>\n",
              "    </tr>\n",
              "    <tr>\n",
              "      <th>5</th>\n",
              "      <td>This watch would have been fantastic, if it ha...</td>\n",
              "      <td>1</td>\n",
              "    </tr>\n",
              "    <tr>\n",
              "      <th>6</th>\n",
              "      <td>I have this watch. It looks and feels heavy du...</td>\n",
              "      <td>1</td>\n",
              "    </tr>\n",
              "    <tr>\n",
              "      <th>7</th>\n",
              "      <td>What the hell! I just got the watch today but ...</td>\n",
              "      <td>1</td>\n",
              "    </tr>\n",
              "    <tr>\n",
              "      <th>8</th>\n",
              "      <td>I am mechanically inclined but cannot get this...</td>\n",
              "      <td>1</td>\n",
              "    </tr>\n",
              "    <tr>\n",
              "      <th>9</th>\n",
              "      <td>It didnt work right out from the box. I had to...</td>\n",
              "      <td>1</td>\n",
              "    </tr>\n",
              "  </tbody>\n",
              "</table>\n",
              "</div>"
            ],
            "text/plain": [
              "                                         review_body  star_rating\n",
              "0  Good luck finding a reasonably priced band rep...            1\n",
              "1  No i get dark on the first week with me!! I wi...            1\n",
              "2  I dont know if mine was a mistake but it clear...            1\n",
              "3  The rod that holds the bracelet broke several ...            1\n",
              "4  I bought 2 watches , one watch doesnot work at...            1\n",
              "5  This watch would have been fantastic, if it ha...            1\n",
              "6  I have this watch. It looks and feels heavy du...            1\n",
              "7  What the hell! I just got the watch today but ...            1\n",
              "8  I am mechanically inclined but cannot get this...            1\n",
              "9  It didnt work right out from the box. I had to...            1"
            ]
          },
          "metadata": {
            "tags": []
          },
          "execution_count": 10
        }
      ]
    },
    {
      "cell_type": "markdown",
      "metadata": {
        "id": "1Qu26FrruiOu"
      },
      "source": [
        "observation: there is no missing values"
      ]
    },
    {
      "cell_type": "code",
      "metadata": {
        "colab": {
          "base_uri": "https://localhost:8080/"
        },
        "id": "7jVwvEu0umog",
        "outputId": "f20ee823-867b-41f4-cff1-265cfa81f545"
      },
      "source": [
        "#Checking for duplicates\r\n",
        "data_corpus.duplicated().sum()"
      ],
      "execution_count": null,
      "outputs": [
        {
          "output_type": "execute_result",
          "data": {
            "text/plain": [
              "439"
            ]
          },
          "metadata": {
            "tags": []
          },
          "execution_count": 11
        }
      ]
    },
    {
      "cell_type": "markdown",
      "metadata": {
        "id": "h7o2UoAQ19aE"
      },
      "source": [
        "observation: there are 439 duplicates."
      ]
    },
    {
      "cell_type": "code",
      "metadata": {
        "colab": {
          "base_uri": "https://localhost:8080/"
        },
        "id": "xG3b0PCR1dbo",
        "outputId": "cf11ae77-da62-4d9d-8c93-baafbcbb952f"
      },
      "source": [
        "#dropping the duplicates\r\n",
        "data_corpus.drop_duplicates(inplace=True)\r\n",
        "#\r\n",
        "#confirming no duplicates\r\n",
        "data_corpus.duplicated().any()"
      ],
      "execution_count": null,
      "outputs": [
        {
          "output_type": "execute_result",
          "data": {
            "text/plain": [
              "False"
            ]
          },
          "metadata": {
            "tags": []
          },
          "execution_count": 12
        }
      ]
    },
    {
      "cell_type": "markdown",
      "metadata": {
        "id": "Mnce2U7Q2D2k"
      },
      "source": [
        "observation: duplicates have been dropped."
      ]
    },
    {
      "cell_type": "markdown",
      "metadata": {
        "id": "KpI2yKqQ6vMO"
      },
      "source": [
        "observation, there are several panctuations. "
      ]
    },
    {
      "cell_type": "code",
      "metadata": {
        "id": "QKkSOJby7uIH",
        "colab": {
          "base_uri": "https://localhost:8080/",
          "height": 419
        },
        "outputId": "c6eda1c1-5374-48b0-c805-b252c9e3fa70"
      },
      "source": [
        "import re\r\n",
        "import string\r\n",
        "\r\n",
        "def clean_text_round1(text):\r\n",
        "  '''Remove HTML tags, remove punctuation, make text lowercase, remove punctuation and remove words containing numbers.'''\r\n",
        "  text = re.sub('<.*?>','', text)\r\n",
        "  text = re.sub('[%s]' % re.escape(string.punctuation), '', text)\r\n",
        "  text = text.lower()\r\n",
        "  text = re.sub('\\d', '', text)\r\n",
        "  return text\r\n",
        "\r\n",
        "fix = lambda x: clean_text_round1(x)\r\n",
        "data_corpus['review_body'] = pd.DataFrame(data_corpus.review_body.apply(fix))\r\n",
        "data_corpus"
      ],
      "execution_count": null,
      "outputs": [
        {
          "output_type": "execute_result",
          "data": {
            "text/html": [
              "<div>\n",
              "<style scoped>\n",
              "    .dataframe tbody tr th:only-of-type {\n",
              "        vertical-align: middle;\n",
              "    }\n",
              "\n",
              "    .dataframe tbody tr th {\n",
              "        vertical-align: top;\n",
              "    }\n",
              "\n",
              "    .dataframe thead th {\n",
              "        text-align: right;\n",
              "    }\n",
              "</style>\n",
              "<table border=\"1\" class=\"dataframe\">\n",
              "  <thead>\n",
              "    <tr style=\"text-align: right;\">\n",
              "      <th></th>\n",
              "      <th>review_body</th>\n",
              "      <th>star_rating</th>\n",
              "    </tr>\n",
              "  </thead>\n",
              "  <tbody>\n",
              "    <tr>\n",
              "      <th>0</th>\n",
              "      <td>good luck finding a reasonably priced band rep...</td>\n",
              "      <td>1</td>\n",
              "    </tr>\n",
              "    <tr>\n",
              "      <th>1</th>\n",
              "      <td>no i get dark on the first week with me i will...</td>\n",
              "      <td>1</td>\n",
              "    </tr>\n",
              "    <tr>\n",
              "      <th>2</th>\n",
              "      <td>i dont know if mine was a mistake but it clear...</td>\n",
              "      <td>1</td>\n",
              "    </tr>\n",
              "    <tr>\n",
              "      <th>3</th>\n",
              "      <td>the rod that holds the bracelet broke several ...</td>\n",
              "      <td>1</td>\n",
              "    </tr>\n",
              "    <tr>\n",
              "      <th>4</th>\n",
              "      <td>i bought  watches  one watch doesnot work at a...</td>\n",
              "      <td>1</td>\n",
              "    </tr>\n",
              "    <tr>\n",
              "      <th>...</th>\n",
              "      <td>...</td>\n",
              "      <td>...</td>\n",
              "    </tr>\n",
              "    <tr>\n",
              "      <th>14995</th>\n",
              "      <td>i have a tag heuer carrera twin time watch who...</td>\n",
              "      <td>5</td>\n",
              "    </tr>\n",
              "    <tr>\n",
              "      <th>14996</th>\n",
              "      <td>it is hard sometimes to judge a product by its...</td>\n",
              "      <td>5</td>\n",
              "    </tr>\n",
              "    <tr>\n",
              "      <th>14997</th>\n",
              "      <td>reloj en perfecto estado llego todo a tiempo l...</td>\n",
              "      <td>5</td>\n",
              "    </tr>\n",
              "    <tr>\n",
              "      <th>14998</th>\n",
              "      <td>this is my third ironman  there are more expen...</td>\n",
              "      <td>5</td>\n",
              "    </tr>\n",
              "    <tr>\n",
              "      <th>14999</th>\n",
              "      <td>i use it everyday</td>\n",
              "      <td>5</td>\n",
              "    </tr>\n",
              "  </tbody>\n",
              "</table>\n",
              "<p>14561 rows × 2 columns</p>\n",
              "</div>"
            ],
            "text/plain": [
              "                                             review_body  star_rating\n",
              "0      good luck finding a reasonably priced band rep...            1\n",
              "1      no i get dark on the first week with me i will...            1\n",
              "2      i dont know if mine was a mistake but it clear...            1\n",
              "3      the rod that holds the bracelet broke several ...            1\n",
              "4      i bought  watches  one watch doesnot work at a...            1\n",
              "...                                                  ...          ...\n",
              "14995  i have a tag heuer carrera twin time watch who...            5\n",
              "14996  it is hard sometimes to judge a product by its...            5\n",
              "14997  reloj en perfecto estado llego todo a tiempo l...            5\n",
              "14998  this is my third ironman  there are more expen...            5\n",
              "14999                                  i use it everyday            5\n",
              "\n",
              "[14561 rows x 2 columns]"
            ]
          },
          "metadata": {
            "tags": []
          },
          "execution_count": 13
        }
      ]
    },
    {
      "cell_type": "code",
      "metadata": {
        "id": "89tO2frzgHw6"
      },
      "source": [
        "data_corpus2 = data_corpus.copy()"
      ],
      "execution_count": null,
      "outputs": []
    },
    {
      "cell_type": "code",
      "metadata": {
        "id": "VyXtTDWrWUrq"
      },
      "source": [
        "from nltk.corpus import stopwords"
      ],
      "execution_count": null,
      "outputs": []
    },
    {
      "cell_type": "code",
      "metadata": {
        "colab": {
          "base_uri": "https://localhost:8080/"
        },
        "id": "BV3h3AP_Wlga",
        "outputId": "2f5aa3d5-701f-4360-a3e0-343455bfe375"
      },
      "source": [
        "pip install nltk\r\n"
      ],
      "execution_count": null,
      "outputs": [
        {
          "output_type": "stream",
          "text": [
            "Requirement already satisfied: nltk in /usr/local/lib/python3.6/dist-packages (3.2.5)\n",
            "Requirement already satisfied: six in /usr/local/lib/python3.6/dist-packages (from nltk) (1.15.0)\n"
          ],
          "name": "stdout"
        }
      ]
    },
    {
      "cell_type": "code",
      "metadata": {
        "colab": {
          "base_uri": "https://localhost:8080/"
        },
        "id": "k_A6J3Dzcvp6",
        "outputId": "a8125559-334a-4b4c-a715-053a3ce0d912"
      },
      "source": [
        "pip install wordnet"
      ],
      "execution_count": null,
      "outputs": [
        {
          "output_type": "stream",
          "text": [
            "Requirement already satisfied: wordnet in /usr/local/lib/python3.6/dist-packages (0.0.1b2)\n",
            "Requirement already satisfied: colorama==0.3.9 in /usr/local/lib/python3.6/dist-packages (from wordnet) (0.3.9)\n"
          ],
          "name": "stdout"
        }
      ]
    },
    {
      "cell_type": "code",
      "metadata": {
        "colab": {
          "base_uri": "https://localhost:8080/",
          "height": 163
        },
        "id": "aU7uRiRudCFh",
        "outputId": "3d1f9ba1-810d-4577-fe67-ab1b22ec26f6"
      },
      "source": [
        "nltk.download()"
      ],
      "execution_count": null,
      "outputs": [
        {
          "output_type": "error",
          "ename": "NameError",
          "evalue": "ignored",
          "traceback": [
            "\u001b[0;31m---------------------------------------------------------------------------\u001b[0m",
            "\u001b[0;31mNameError\u001b[0m                                 Traceback (most recent call last)",
            "\u001b[0;32m<ipython-input-18-6e230a00a763>\u001b[0m in \u001b[0;36m<module>\u001b[0;34m()\u001b[0m\n\u001b[0;32m----> 1\u001b[0;31m \u001b[0mnltk\u001b[0m\u001b[0;34m.\u001b[0m\u001b[0mdownload\u001b[0m\u001b[0;34m(\u001b[0m\u001b[0;34m)\u001b[0m\u001b[0;34m\u001b[0m\u001b[0;34m\u001b[0m\u001b[0m\n\u001b[0m",
            "\u001b[0;31mNameError\u001b[0m: name 'nltk' is not defined"
          ]
        }
      ]
    },
    {
      "cell_type": "code",
      "metadata": {
        "colab": {
          "base_uri": "https://localhost:8080/"
        },
        "id": "YCaHz_5LWoYW",
        "outputId": "b37c4f87-b733-4bf4-c868-c7bd47dd5805"
      },
      "source": [
        "import nltk\r\n",
        "nltk.download('stopwords')\r\n",
        "nltk.download('punkt')"
      ],
      "execution_count": null,
      "outputs": [
        {
          "output_type": "stream",
          "text": [
            "[nltk_data] Downloading package stopwords to /root/nltk_data...\n",
            "[nltk_data]   Package stopwords is already up-to-date!\n",
            "[nltk_data] Downloading package punkt to /root/nltk_data...\n",
            "[nltk_data]   Package punkt is already up-to-date!\n"
          ],
          "name": "stdout"
        },
        {
          "output_type": "execute_result",
          "data": {
            "text/plain": [
              "True"
            ]
          },
          "metadata": {
            "tags": []
          },
          "execution_count": 19
        }
      ]
    },
    {
      "cell_type": "code",
      "metadata": {
        "id": "IV0ojEKnXOTW"
      },
      "source": [
        "data_corpus['review_body'] = data_corpus['review_body'].apply(nltk.word_tokenize)"
      ],
      "execution_count": null,
      "outputs": []
    },
    {
      "cell_type": "code",
      "metadata": {
        "id": "6be6odNCYz3_",
        "colab": {
          "base_uri": "https://localhost:8080/"
        },
        "outputId": "18e07709-612e-4108-ca13-a35bf0c4e79d"
      },
      "source": [
        "data_corpus['review_body']"
      ],
      "execution_count": null,
      "outputs": [
        {
          "output_type": "execute_result",
          "data": {
            "text/plain": [
              "0        [good, luck, finding, a, reasonably, priced, b...\n",
              "1        [no, i, get, dark, on, the, first, week, with,...\n",
              "2        [i, dont, know, if, mine, was, a, mistake, but...\n",
              "3        [the, rod, that, holds, the, bracelet, broke, ...\n",
              "4        [i, bought, watches, one, watch, doesnot, work...\n",
              "                               ...                        \n",
              "14995    [i, have, a, tag, heuer, carrera, twin, time, ...\n",
              "14996    [it, is, hard, sometimes, to, judge, a, produc...\n",
              "14997    [reloj, en, perfecto, estado, llego, todo, a, ...\n",
              "14998    [this, is, my, third, ironman, there, are, mor...\n",
              "14999                               [i, use, it, everyday]\n",
              "Name: review_body, Length: 14561, dtype: object"
            ]
          },
          "metadata": {
            "tags": []
          },
          "execution_count": 21
        }
      ]
    },
    {
      "cell_type": "code",
      "metadata": {
        "id": "QU7XNlqoXCAD"
      },
      "source": [
        "from nltk.stem import PorterStemmer\r\n",
        "\r\n",
        "stemmer = PorterStemmer()\r\n",
        " \r\n",
        "data_corpus['review_body'] = data_corpus['review_body'].apply(lambda x: [stemmer.stem(y) for y in x])"
      ],
      "execution_count": null,
      "outputs": []
    },
    {
      "cell_type": "code",
      "metadata": {
        "colab": {
          "base_uri": "https://localhost:8080/"
        },
        "id": "_5T7YdBPdrIc",
        "outputId": "0fa6b82e-3eab-405c-fb11-247aa04927fe"
      },
      "source": [
        "data_corpus['review_body']\r\n"
      ],
      "execution_count": null,
      "outputs": [
        {
          "output_type": "execute_result",
          "data": {
            "text/plain": [
              "0        [good, luck, find, a, reason, price, band, rep...\n",
              "1        [no, i, get, dark, on, the, first, week, with,...\n",
              "2        [i, dont, know, if, mine, wa, a, mistak, but, ...\n",
              "3        [the, rod, that, hold, the, bracelet, broke, s...\n",
              "4        [i, bought, watch, one, watch, doesnot, work, ...\n",
              "                               ...                        \n",
              "14995    [i, have, a, tag, heuer, carrera, twin, time, ...\n",
              "14996    [it, is, hard, sometim, to, judg, a, product, ...\n",
              "14997    [reloj, en, perfecto, estado, llego, todo, a, ...\n",
              "14998    [thi, is, my, third, ironman, there, are, more...\n",
              "14999                               [i, use, it, everyday]\n",
              "Name: review_body, Length: 14561, dtype: object"
            ]
          },
          "metadata": {
            "tags": []
          },
          "execution_count": 23
        }
      ]
    },
    {
      "cell_type": "code",
      "metadata": {
        "id": "hOiOPkb2mELL"
      },
      "source": [
        "from sklearn.feature_extraction.text import CountVectorizer"
      ],
      "execution_count": 44,
      "outputs": []
    },
    {
      "cell_type": "code",
      "metadata": {
        "id": "9J06wmA6ev4E"
      },
      "source": [
        "from sklearn.feature_extraction.text import CountVectorizer\r\n",
        "\r\n",
        "data_corpus['review_body'] = data_corpus['review_body'].apply(lambda x: ' '.join(x))\r\n",
        "\r\n",
        "cv = CountVectorizer(stop_words='english')\r\n",
        "text_1 = cv.fit_transform(data_corpus['review_body'])"
      ],
      "execution_count": null,
      "outputs": []
    },
    {
      "cell_type": "code",
      "metadata": {
        "colab": {
          "base_uri": "https://localhost:8080/"
        },
        "id": "H7rzBFEojKuJ",
        "outputId": "3e517f33-d7e5-4ce3-ae85-33668666ab7d"
      },
      "source": [
        "print(cv)"
      ],
      "execution_count": 38,
      "outputs": [
        {
          "output_type": "stream",
          "text": [
            "CountVectorizer(analyzer='word', binary=False, decode_error='strict',\n",
            "                dtype=<class 'numpy.int64'>, encoding='utf-8', input='content',\n",
            "                lowercase=True, max_df=1.0, max_features=None, min_df=1,\n",
            "                ngram_range=(1, 1), preprocessor=None, stop_words='english',\n",
            "                strip_accents=None, token_pattern='(?u)\\\\b\\\\w\\\\w+\\\\b',\n",
            "                tokenizer=None, vocabulary=None)\n"
          ],
          "name": "stdout"
        }
      ]
    },
    {
      "cell_type": "code",
      "metadata": {
        "colab": {
          "base_uri": "https://localhost:8080/",
          "height": 299
        },
        "id": "a9PF8FsylOl7",
        "outputId": "27119cf9-ccbc-4aa1-f289-350172b418fc"
      },
      "source": [
        "\r\n",
        "print(len(text_1.vocabulary_))"
      ],
      "execution_count": 45,
      "outputs": [
        {
          "output_type": "error",
          "ename": "AttributeError",
          "evalue": "ignored",
          "traceback": [
            "\u001b[0;31m---------------------------------------------------------------------------\u001b[0m",
            "\u001b[0;31mAttributeError\u001b[0m                            Traceback (most recent call last)",
            "\u001b[0;32m<ipython-input-45-7c08dc05312a>\u001b[0m in \u001b[0;36m<module>\u001b[0;34m()\u001b[0m\n\u001b[1;32m      1\u001b[0m \u001b[0;34m\u001b[0m\u001b[0m\n\u001b[0;32m----> 2\u001b[0;31m \u001b[0mprint\u001b[0m\u001b[0;34m(\u001b[0m\u001b[0mlen\u001b[0m\u001b[0;34m(\u001b[0m\u001b[0mtext_1\u001b[0m\u001b[0;34m.\u001b[0m\u001b[0mvocabulary_\u001b[0m\u001b[0;34m)\u001b[0m\u001b[0;34m)\u001b[0m\u001b[0;34m\u001b[0m\u001b[0;34m\u001b[0m\u001b[0m\n\u001b[0m",
            "\u001b[0;32m/usr/local/lib/python3.6/dist-packages/scipy/sparse/base.py\u001b[0m in \u001b[0;36m__getattr__\u001b[0;34m(self, attr)\u001b[0m\n\u001b[1;32m    689\u001b[0m             \u001b[0;32mreturn\u001b[0m \u001b[0mself\u001b[0m\u001b[0;34m.\u001b[0m\u001b[0mgetnnz\u001b[0m\u001b[0;34m(\u001b[0m\u001b[0;34m)\u001b[0m\u001b[0;34m\u001b[0m\u001b[0;34m\u001b[0m\u001b[0m\n\u001b[1;32m    690\u001b[0m         \u001b[0;32melse\u001b[0m\u001b[0;34m:\u001b[0m\u001b[0;34m\u001b[0m\u001b[0;34m\u001b[0m\u001b[0m\n\u001b[0;32m--> 691\u001b[0;31m             \u001b[0;32mraise\u001b[0m \u001b[0mAttributeError\u001b[0m\u001b[0;34m(\u001b[0m\u001b[0mattr\u001b[0m \u001b[0;34m+\u001b[0m \u001b[0;34m\" not found\"\u001b[0m\u001b[0;34m)\u001b[0m\u001b[0;34m\u001b[0m\u001b[0;34m\u001b[0m\u001b[0m\n\u001b[0m\u001b[1;32m    692\u001b[0m \u001b[0;34m\u001b[0m\u001b[0m\n\u001b[1;32m    693\u001b[0m     \u001b[0;32mdef\u001b[0m \u001b[0mtranspose\u001b[0m\u001b[0;34m(\u001b[0m\u001b[0mself\u001b[0m\u001b[0;34m,\u001b[0m \u001b[0maxes\u001b[0m\u001b[0;34m=\u001b[0m\u001b[0;32mNone\u001b[0m\u001b[0;34m,\u001b[0m \u001b[0mcopy\u001b[0m\u001b[0;34m=\u001b[0m\u001b[0;32mFalse\u001b[0m\u001b[0;34m)\u001b[0m\u001b[0;34m:\u001b[0m\u001b[0;34m\u001b[0m\u001b[0;34m\u001b[0m\u001b[0m\n",
            "\u001b[0;31mAttributeError\u001b[0m: vocabulary_ not found"
          ]
        }
      ]
    },
    {
      "cell_type": "code",
      "metadata": {
        "colab": {
          "base_uri": "https://localhost:8080/"
        },
        "id": "pLXsmeN8jWYQ",
        "outputId": "57c078c1-9b8c-4f4d-ff9a-665621eb2d55"
      },
      "source": [
        "print(text_1)"
      ],
      "execution_count": 35,
      "outputs": [
        {
          "output_type": "stream",
          "text": [
            "  (0, 6555)\t1\n",
            "  (0, 8994)\t1\n",
            "  (0, 5793)\t1\n",
            "  (0, 12308)\t1\n",
            "  (0, 11679)\t1\n",
            "  (0, 1222)\t2\n",
            "  (0, 12687)\t1\n",
            "  (0, 10636)\t1\n",
            "  (0, 3861)\t1\n",
            "  (0, 14238)\t1\n",
            "  (0, 15973)\t1\n",
            "  (0, 14002)\t1\n",
            "  (0, 13578)\t1\n",
            "  (0, 17833)\t1\n",
            "  (0, 6781)\t1\n",
            "  (0, 7439)\t1\n",
            "  (0, 16140)\t1\n",
            "  (0, 480)\t1\n",
            "  (0, 9115)\t1\n",
            "  (0, 1246)\t1\n",
            "  (0, 16385)\t1\n",
            "  (0, 17007)\t1\n",
            "  (0, 4115)\t1\n",
            "  (0, 14862)\t1\n",
            "  (0, 2446)\t1\n",
            "  :\t:\n",
            "  (10122, 7868)\t1\n",
            "  (10122, 14305)\t1\n",
            "  (10122, 11915)\t1\n",
            "  (10122, 7189)\t1\n",
            "  (10122, 1325)\t1\n",
            "  (10122, 4782)\t1\n",
            "  (10122, 8056)\t1\n",
            "  (10122, 8372)\t1\n",
            "  (10123, 17007)\t2\n",
            "  (10123, 12069)\t1\n",
            "  (10123, 8962)\t1\n",
            "  (10123, 1187)\t1\n",
            "  (10123, 15537)\t1\n",
            "  (10123, 6232)\t1\n",
            "  (10123, 13320)\t1\n",
            "  (10123, 8881)\t1\n",
            "  (10123, 3344)\t1\n",
            "  (10123, 7135)\t1\n",
            "  (10123, 9014)\t1\n",
            "  (10123, 9546)\t1\n",
            "  (10124, 3788)\t1\n",
            "  (10124, 8963)\t1\n",
            "  (10124, 15347)\t1\n",
            "  (10124, 8563)\t1\n",
            "  (10124, 15643)\t1\n"
          ],
          "name": "stdout"
        }
      ]
    },
    {
      "cell_type": "code",
      "metadata": {
        "colab": {
          "base_uri": "https://localhost:8080/"
        },
        "id": "u1qR2xkMe3Ct",
        "outputId": "cfd0381b-b8ab-479a-8e7b-3093b83f186a"
      },
      "source": [
        "data_DTM = pd.DataFrame(text_1.toarray(), columns=cv.get_feature_names())\r\n",
        "data_DTM['star_rating'] = data_corpus2['star_rating']\r\n",
        "data_DTM['star_rating']\r\n"
      ],
      "execution_count": null,
      "outputs": [
        {
          "output_type": "execute_result",
          "data": {
            "text/plain": [
              "0        1.0\n",
              "1        1.0\n",
              "2        1.0\n",
              "3        1.0\n",
              "4        1.0\n",
              "        ... \n",
              "14556    5.0\n",
              "14557    5.0\n",
              "14558    5.0\n",
              "14559    5.0\n",
              "14560    5.0\n",
              "Name: star_rating, Length: 14561, dtype: float64"
            ]
          },
          "metadata": {
            "tags": []
          },
          "execution_count": 29
        }
      ]
    },
    {
      "cell_type": "code",
      "metadata": {
        "id": "BW5F0sLXj-Xb"
      },
      "source": [
        "#convert a collection of raw documents to a matrix of TF-IDF features\r\n",
        "from sklearn.feature_extraction.text import TfidfTransformer\r\n",
        "tfidf_transformer = TfidfTransformer().fit(text_1)"
      ],
      "execution_count": 39,
      "outputs": []
    },
    {
      "cell_type": "code",
      "metadata": {
        "id": "US57NItDkZSJ"
      },
      "source": [
        "message_tfidf = tfidf_transformer.transform(text_1)"
      ],
      "execution_count": 40,
      "outputs": []
    },
    {
      "cell_type": "code",
      "metadata": {
        "colab": {
          "base_uri": "https://localhost:8080/"
        },
        "id": "qQHv-ww9khAD",
        "outputId": "5fcb3dae-ec10-4e80-f5ab-887b61409011"
      },
      "source": [
        "print(message_tfidf.shape)\r\n",
        "print(message_tfidf)"
      ],
      "execution_count": 41,
      "outputs": [
        {
          "output_type": "stream",
          "text": [
            "(10125, 18008)\n",
            "  (0, 17833)\t0.1740005565937952\n",
            "  (0, 17007)\t0.05043063708683477\n",
            "  (0, 16385)\t0.21807063932028212\n",
            "  (0, 16140)\t0.1698234903037327\n",
            "  (0, 15973)\t0.2773253929957162\n",
            "  (0, 14862)\t0.2620578895544137\n",
            "  (0, 14238)\t0.20847709182507054\n",
            "  (0, 14002)\t0.21876874262272597\n",
            "  (0, 13578)\t0.154912163183575\n",
            "  (0, 12687)\t0.15732796764844087\n",
            "  (0, 12308)\t0.24643957154478252\n",
            "  (0, 11679)\t0.22847530718738698\n",
            "  (0, 10636)\t0.15063293964670524\n",
            "  (0, 9115)\t0.14844579000492014\n",
            "  (0, 8994)\t0.2064438619842444\n",
            "  (0, 7439)\t0.1710421786610167\n",
            "  (0, 6781)\t0.16671717399371294\n",
            "  (0, 6555)\t0.09907662884092171\n",
            "  (0, 5793)\t0.22942207704667755\n",
            "  (0, 4115)\t0.15502345132543946\n",
            "  (0, 3861)\t0.2381062315798944\n",
            "  (0, 2446)\t0.2154112553014849\n",
            "  (0, 2145)\t0.12183474801160364\n",
            "  (0, 1246)\t0.17875289028214741\n",
            "  (0, 1222)\t0.19110624890331007\n",
            "  :\t:\n",
            "  (10122, 1422)\t0.08993594435316285\n",
            "  (10122, 1325)\t0.10838405993233595\n",
            "  (10122, 1222)\t0.06783386985818368\n",
            "  (10122, 836)\t0.06751322837213142\n",
            "  (10122, 612)\t0.0817797419314039\n",
            "  (10122, 354)\t0.06142422984312437\n",
            "  (10122, 187)\t0.14875428319506925\n",
            "  (10122, 78)\t0.08367046215907073\n",
            "  (10123, 17007)\t0.17133295932082282\n",
            "  (10123, 15537)\t0.2389102352441671\n",
            "  (10123, 13320)\t0.2614746036877503\n",
            "  (10123, 12069)\t0.19371764625157536\n",
            "  (10123, 9546)\t0.4858441713493059\n",
            "  (10123, 9014)\t0.3881108069757878\n",
            "  (10123, 8962)\t0.23504391991072685\n",
            "  (10123, 8881)\t0.2022287619670372\n",
            "  (10123, 7135)\t0.3063422083407245\n",
            "  (10123, 6232)\t0.29791615412320344\n",
            "  (10123, 3344)\t0.28761366730178994\n",
            "  (10123, 1187)\t0.24399496471525975\n",
            "  (10124, 15643)\t0.5644301431964792\n",
            "  (10124, 15347)\t0.3394498427755634\n",
            "  (10124, 8963)\t0.33390916002435345\n",
            "  (10124, 8563)\t0.5404518046536038\n",
            "  (10124, 3788)\t0.40324798497864883\n"
          ],
          "name": "stdout"
        }
      ]
    }
  ]
}